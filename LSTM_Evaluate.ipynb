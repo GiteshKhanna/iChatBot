{
 "cells": [
  {
   "cell_type": "code",
   "execution_count": 1,
   "metadata": {},
   "outputs": [
    {
     "name": "stderr",
     "output_type": "stream",
     "text": [
      "c:\\users\\lenovo\\appdata\\local\\programs\\python\\python36\\lib\\site-packages\\h5py\\__init__.py:36: FutureWarning: Conversion of the second argument of issubdtype from `float` to `np.floating` is deprecated. In future, it will be treated as `np.float64 == np.dtype(float).type`.\n",
      "  from ._conv import register_converters as _register_converters\n"
     ]
    }
   ],
   "source": [
    "import math\n",
    "import numpy as np\n",
    "import tensorflow as tf\n",
    "\n",
    "from tensorflow.python.ops.rnn_cell import GRUCell\n",
    "from tensorflow.python.ops.rnn_cell import LSTMCell\n",
    "from tensorflow.python.ops.rnn_cell import MultiRNNCell\n",
    "from tensorflow.python.ops.rnn_cell import DropoutWrapper, ResidualWrapper\n",
    "\n",
    "from tensorflow.python.ops import array_ops\n",
    "from tensorflow.python.ops import control_flow_ops\n",
    "from tensorflow.python.framework import constant_op\n",
    "from tensorflow.python.framework import dtypes\n",
    "from tensorflow.python.layers.core import Dense\n",
    "from tensorflow.python.util import nest\n",
    "\n",
    "from tensorflow.contrib.seq2seq.python.ops import attention_wrapper\n",
    "from tensorflow.contrib.seq2seq.python.ops import beam_search_decoder\n",
    "from datetime import datetime\n",
    "\n",
    "from preprocess import *\n",
    "from loading_util import *\n",
    "from ques_dictionary import ques_dict"
   ]
  },
  {
   "cell_type": "code",
   "execution_count": 2,
   "metadata": {},
   "outputs": [],
   "source": [
    "#Resetter\n",
    "def reset_graph(seed=42):\n",
    "    tf.reset_default_graph()\n",
    "    tf.set_random_seed(seed)\n",
    "    np.random.seed(seed)"
   ]
  },
  {
   "cell_type": "code",
   "execution_count": 3,
   "metadata": {},
   "outputs": [],
   "source": [
    "#embedding parameters\n",
    "embedding_size = 50\n",
    "vocab_size = 400003\n",
    "\n",
    "#data parameters\n",
    "eMax_allowed_length = 3000\n",
    "#dMax_allowed_length = 15\n",
    "\n",
    "#network parameters\n",
    "hidden_units = 90\n",
    "n_outputs = 5\n",
    "depth = 1\n",
    "n_epochs = 10\n",
    "learning_rate = 0.001\n",
    "batch_size = 64\n",
    "\n",
    "#Saving Parameters\n",
    "#Tensorboard Logs\n",
    "now = datetime.utcnow().strftime(\"%Y%m%d%H%M%S\")\n",
    "root_logdir = \"tmp/LSTM_evaluate/tf_logs\"\n",
    "log_dir = \"{}/run-{}/\".format(root_logdir,now)\n",
    "#Tensorboard logs end\n",
    "\n",
    "save_path = 'tmp/LSTM_Evaluate/model/mymodel.ckpt'"
   ]
  },
  {
   "cell_type": "code",
   "execution_count": 4,
   "metadata": {},
   "outputs": [],
   "source": [
    "#Fetching data\n",
    "#default directory: 'data/essays.csv'\n",
    "X,Y= read_csv_essay('data/essays.csv')"
   ]
  },
  {
   "cell_type": "code",
   "execution_count": 5,
   "metadata": {},
   "outputs": [],
   "source": [
    "#Fetching glove vectors\n",
    "#default directory: \"./glove.6B.50d.txt\"\n",
    "embedding_size = 50\n",
    "wi,iw,wv = read_glove_vecs()\n",
    "len(wi)\n",
    "len(iw)\n",
    "reset_graph()"
   ]
  },
  {
   "cell_type": "code",
   "execution_count": 6,
   "metadata": {},
   "outputs": [],
   "source": [
    "#Adding extra tokens to glove dictionary\n",
    "#IMPORTANT: Don't run more than once\n",
    "go_index,eos_index,unk_index = add_extra_to_dict(wi,iw,wv,embedding_size)\n",
    "emb = map_dict_to_list(iw,wv)"
   ]
  },
  {
   "cell_type": "code",
   "execution_count": 7,
   "metadata": {},
   "outputs": [
    {
     "name": "stdout",
     "output_type": "stream",
     "text": [
      "[ 54272 270500 205844 ... 400001 400001 400001]\n",
      "646\n"
     ]
    }
   ],
   "source": [
    "#preprocessing data\n",
    "#Mapping each word in a sentence to its glove index\n",
    "eInput,eLengths = fit_essay_text(data= X,word_to_index = wi,max_allowed_seq_length = eMax_allowed_length)\n",
    "\n",
    "eInput = np.array(eInput) \n",
    "eLengths = np.array(eLengths)\n",
    "#dInput = np.array(dInput)\n",
    "#dOutput = np.array(dOutput)\n",
    "#dLengths = np.array(dLengths)\n",
    "print(eInput[2])\n",
    "print(eLengths[1])"
   ]
  },
  {
   "cell_type": "code",
   "execution_count": 8,
   "metadata": {},
   "outputs": [],
   "source": [
    "\n",
    "\n",
    "#encoder inputs: [batch_size, max_time_steps]\n",
    "encoder_inputs = tf.placeholder(dtype = tf.int32, shape = (None,None), name = 'encoder_inputs')\n",
    "#encoder_inputs_length: [batch_size]\n",
    "encoder_inputs_length = tf.placeholder(dtype=tf.int32, shape=(None,) , name = 'encoder_inputs_length')\n",
    "\n",
    "#encoder_outputs\n",
    "traits = tf.placeholder(tf.float32,[None,n_outputs])"
   ]
  },
  {
   "cell_type": "code",
   "execution_count": 9,
   "metadata": {},
   "outputs": [],
   "source": [
    "\n",
    "#Instantiating embeddings\n",
    "embedding_variable = tf.Variable(tf.constant(0.0, shape = [vocab_size, embedding_size]),trainable = False, name = 'embedding')\n",
    "embedding_placeholder = tf.placeholder(tf.float32, shape=[vocab_size,embedding_size], name = 'embedding_placeholder' )\n",
    "encoder_embeddings = embedding_variable.assign(embedding_placeholder)\n",
    "\n",
    "encoder_inputs_embedded=tf.nn.embedding_lookup(encoder_embeddings,encoder_inputs)"
   ]
  },
  {
   "cell_type": "code",
   "execution_count": 10,
   "metadata": {},
   "outputs": [
    {
     "name": "stdout",
     "output_type": "stream",
     "text": [
      "(2467, 3000, 50)\n",
      "[ 2.7691e-01  2.8745e-01 -2.9935e-01 -1.9964e-01  1.2956e-01  1.5555e-01\n",
      " -6.4522e-01 -3.4090e-01 -1.1833e-01  1.5798e-01  1.3969e-01  2.4872e-01\n",
      " -1.5901e-01 -3.3439e-02  1.1895e-01  7.6535e-02  4.5263e-01  2.6494e-01\n",
      " -1.9157e-01 -5.6768e-01  2.9286e-02  2.1745e-01  4.3406e-01  1.4981e-01\n",
      "  7.5774e-02 -1.4453e+00 -5.8394e-01 -4.6063e-02  6.6214e-02 -2.6417e-01\n",
      "  3.9650e+00  2.5196e-01  2.4855e-01 -5.0524e-01  2.5806e-01  2.8683e-01\n",
      " -1.7994e-01  6.2885e-01 -1.2040e-01 -4.2143e-02 -4.4911e-02  1.8561e-01\n",
      "  1.6266e-01 -2.6127e-03  1.3083e-01  2.0179e-01 -2.9667e-01 -9.4820e-02\n",
      " -2.1250e-01  2.2074e-02]\n"
     ]
    }
   ],
   "source": [
    "#Testing embedding lookup\n",
    "with tf.Session() as sess:\n",
    "    embed=sess.run(encoder_inputs_embedded, feed_dict={embedding_placeholder:emb ,encoder_inputs:eInput })\n",
    "    print(embed.shape)\n",
    "    print(embed[0][0])"
   ]
  },
  {
   "cell_type": "code",
   "execution_count": 11,
   "metadata": {},
   "outputs": [],
   "source": [
    "basic_cell = tf.contrib.rnn.BasicRNNCell(num_units = hidden_units)\n",
    "outputs,states = tf.nn.dynamic_rnn(basic_cell,encoder_inputs_embedded,dtype=tf.float32, sequence_length=encoder_inputs_length)"
   ]
  },
  {
   "cell_type": "code",
   "execution_count": 12,
   "metadata": {},
   "outputs": [],
   "source": [
    "logits = tf.layers.dense(states,n_outputs)\n",
    "xentropy = tf.nn.sigmoid_cross_entropy_with_logits(\n",
    "    labels=traits,\n",
    "    logits=logits,\n",
    "    name='CostFunction_Sigmoid'\n",
    ")\n",
    "loss = tf.reduce_mean(xentropy)"
   ]
  },
  {
   "cell_type": "code",
   "execution_count": 13,
   "metadata": {},
   "outputs": [],
   "source": [
    "#Testing Purposes\n",
    "probs = tf.nn.sigmoid(logits)"
   ]
  },
  {
   "cell_type": "code",
   "execution_count": 14,
   "metadata": {},
   "outputs": [
    {
     "name": "stdout",
     "output_type": "stream",
     "text": [
      "[[0.46080476 0.65937465 0.40133417 0.496585   0.31023803]\n",
      " [0.6714892  0.39019325 0.41171765 0.48625496 0.41019386]\n",
      " [0.66519624 0.35543075 0.5912706  0.4032026  0.43505606]\n",
      " [0.4396047  0.69373745 0.3284235  0.35791615 0.5821552 ]\n",
      " [0.5403732  0.5991934  0.4185316  0.4548149  0.619352  ]\n",
      " [0.5224103  0.61351436 0.3569265  0.38378924 0.72455114]\n",
      " [0.6248909  0.5293847  0.2367164  0.25008565 0.5450527 ]\n",
      " [0.5889836  0.28774312 0.4597887  0.5511989  0.47979635]\n",
      " [0.5883174  0.53732264 0.36808395 0.52243596 0.5126058 ]\n",
      " [0.63208276 0.48975295 0.69125515 0.60061264 0.6098951 ]\n",
      " [0.58261144 0.48515907 0.48880145 0.5102033  0.37506896]\n",
      " [0.6805589  0.40056866 0.50416505 0.35897252 0.5945645 ]\n",
      " [0.43699357 0.34254834 0.36023796 0.6148156  0.3705528 ]\n",
      " [0.64748263 0.54289925 0.39646497 0.2446766  0.64683235]\n",
      " [0.5624788  0.5219125  0.3689972  0.4687736  0.5470733 ]\n",
      " [0.5140218  0.36854708 0.5458346  0.54155195 0.4315662 ]\n",
      " [0.5573012  0.4981787  0.33942744 0.52188283 0.5463681 ]\n",
      " [0.5596738  0.5240859  0.30928454 0.41090736 0.46221724]\n",
      " [0.5360394  0.44739944 0.44521776 0.54154366 0.64447445]\n",
      " [0.5299752  0.44469127 0.4701076  0.51621085 0.5329226 ]]\n"
     ]
    }
   ],
   "source": [
    "#Testing sigmoid\n",
    "\n",
    "init = tf.global_variables_initializer()\n",
    "with tf.Session() as sess:\n",
    "    init.run()\n",
    "    index = 20\n",
    "    p = sess.run(probs,feed_dict = {encoder_inputs: eInput[:index],encoder_inputs_length: eLengths[:index],traits: Y[:index],embedding_placeholder:emb})\n",
    "    print(p)"
   ]
  },
  {
   "cell_type": "code",
   "execution_count": 15,
   "metadata": {},
   "outputs": [],
   "source": [
    "optimizer = tf.train.AdamOptimizer(learning_rate=learning_rate)\n",
    "training_op = optimizer.minimize(loss) ;\n",
    "correct = tf.equal(tf.round(probs),tf.round(traits))\n",
    "accuracy = tf.reduce_mean(tf.cast(correct,tf.float32))"
   ]
  },
  {
   "cell_type": "code",
   "execution_count": 16,
   "metadata": {},
   "outputs": [
    {
     "name": "stdout",
     "output_type": "stream",
     "text": [
      "0.46\n",
      "[[ True  True False  True False]\n",
      " [False  True False  True  True]\n",
      " [False False False False False]\n",
      " [False False False False False]\n",
      " [ True False False  True  True]\n",
      " [ True False False  True  True]\n",
      " [False False False  True False]\n",
      " [False  True  True  True False]\n",
      " [ True  True  True  True  True]\n",
      " [ True False  True  True False]\n",
      " [ True False False  True False]\n",
      " [False  True False  True False]\n",
      " [ True False  True False  True]\n",
      " [False  True False  True False]\n",
      " [False False False False False]\n",
      " [ True  True  True False  True]\n",
      " [False  True  True False  True]\n",
      " [False False False  True False]\n",
      " [False  True False  True  True]\n",
      " [ True False False False  True]]\n"
     ]
    }
   ],
   "source": [
    "#Testing accuracy\n",
    "\n",
    "init = tf.global_variables_initializer()\n",
    "with tf.Session() as sess:\n",
    "    init.run()\n",
    "    index = 20\n",
    "    c,p = sess.run([correct,accuracy],feed_dict = {encoder_inputs: eInput[:index],\n",
    "                                                   encoder_inputs_length: eLengths[:index],\n",
    "                                                   traits: Y[:index],embedding_placeholder:emb})\n",
    "    print(p)\n",
    "    print(c)"
   ]
  },
  {
   "cell_type": "code",
   "execution_count": 17,
   "metadata": {},
   "outputs": [],
   "source": [
    "acc_summary = tf.summary.scalar('Accuracy',accuracy)\n",
    "file_writer = tf.summary.FileWriter(log_dir+'_train',tf.get_default_graph()) \n",
    "file_writer_test = tf.summary.FileWriter(log_dir+'_test',tf.get_default_graph()) "
   ]
  },
  {
   "cell_type": "code",
   "execution_count": 18,
   "metadata": {},
   "outputs": [],
   "source": [
    "init = tf.global_variables_initializer()\n",
    "saver = tf.train.Saver()"
   ]
  },
  {
   "cell_type": "code",
   "execution_count": null,
   "metadata": {},
   "outputs": [],
   "source": [
    "def fetch_batch(data_x,data_y,lengths,batch_index,batch_size):\n",
    "    return (data_x[batch_index:batch_index+batch_size,:],\n",
    "            data_y[batch_index:batch_index+batch_size,:],\n",
    "            lengths[batch_index:batch_index+batch_size])"
   ]
  },
  {
   "cell_type": "code",
   "execution_count": null,
   "metadata": {
    "scrolled": true
   },
   "outputs": [
    {
     "name": "stdout",
     "output_type": "stream",
     "text": [
      "Epoch: 0  Batch_number:  0  Batch_loss: 0.5625  Accuracy: 0.5625\n",
      "Epoch: 0  Batch_number:  1  Batch_loss: 0.584375  Accuracy: 0.584375\n",
      "Epoch: 0  Batch_number:  2  Batch_loss: 0.615625  Accuracy: 0.615625\n",
      "Epoch: 0  Batch_number:  3  Batch_loss: 0.634375  Accuracy: 0.634375\n",
      "Epoch: 0  Batch_number:  4  Batch_loss: 0.66875  Accuracy: 0.66875\n",
      "Epoch: 0  Batch_number:  5  Batch_loss: 0.69375  Accuracy: 0.69375\n",
      "Epoch: 0  Batch_number:  6  Batch_loss: 0.709375  Accuracy: 0.709375\n",
      "Epoch: 0  Batch_number:  7  Batch_loss: 0.73125  Accuracy: 0.73125\n",
      "Epoch: 0  Batch_number:  8  Batch_loss: 0.740625  Accuracy: 0.740625\n",
      "Epoch: 0  Batch_number:  9  Batch_loss: 0.7625  Accuracy: 0.7625\n",
      "Epoch: 0  Batch_number:  10  Batch_loss: 0.784375  Accuracy: 0.784375\n",
      "Epoch: 0  Batch_number:  11  Batch_loss: 0.790625  Accuracy: 0.790625\n",
      "Epoch: 0  Batch_number:  12  Batch_loss: 0.803125  Accuracy: 0.803125\n",
      "Epoch: 0  Batch_number:  13  Batch_loss: 0.80625  Accuracy: 0.80625\n",
      "Epoch: 0  Batch_number:  14  Batch_loss: 0.803125  Accuracy: 0.803125\n",
      "Epoch: 0  Batch_number:  15  Batch_loss: 0.809375  Accuracy: 0.809375\n",
      "Epoch: 0  Batch_number:  16  Batch_loss: 0.8125  Accuracy: 0.8125\n",
      "Epoch: 0  Batch_number:  17  Batch_loss: 0.83125  Accuracy: 0.83125\n",
      "Epoch: 0  Batch_number:  18  Batch_loss: 0.840625  Accuracy: 0.840625\n",
      "Epoch: 0  Batch_number:  19  Batch_loss: 0.8375  Accuracy: 0.8375\n",
      "Epoch: 0  Batch_number:  20  Batch_loss: 0.834375  Accuracy: 0.834375\n",
      "Epoch: 0  Batch_number:  21  Batch_loss: 0.8375  Accuracy: 0.8375\n",
      "Epoch: 0  Batch_number:  22  Batch_loss: 0.846875  Accuracy: 0.846875\n",
      "Epoch: 0  Batch_number:  23  Batch_loss: 0.85625  Accuracy: 0.85625\n",
      "Epoch: 0  Batch_number:  24  Batch_loss: 0.8625  Accuracy: 0.8625\n",
      "Epoch: 0  Batch_number:  25  Batch_loss: 0.859375  Accuracy: 0.859375\n",
      "Epoch: 0  Batch_number:  26  Batch_loss: 0.8625  Accuracy: 0.8625\n",
      "Epoch: 0  Batch_number:  27  Batch_loss: 0.85625  Accuracy: 0.85625\n",
      "Epoch: 0  Batch_number:  28  Batch_loss: 0.853125  Accuracy: 0.853125\n",
      "Epoch: 0  Batch_number:  29  Batch_loss: 0.85  Accuracy: 0.85\n",
      "Epoch: 0  Batch_number:  30  Batch_loss: 0.865625  Accuracy: 0.865625\n",
      "Epoch: 0  Batch_number:  31  Batch_loss: 0.859375  Accuracy: 0.859375\n",
      "Epoch: 0  Batch_number:  32  Batch_loss: 0.859375  Accuracy: 0.859375\n",
      "Epoch: 0  Batch_number:  33  Batch_loss: 0.865625  Accuracy: 0.865625\n",
      "Epoch: 0  Batch_number:  34  Batch_loss: 0.871875  Accuracy: 0.871875\n",
      "Epoch: 0  Batch_number:  35  Batch_loss: 0.865625  Accuracy: 0.865625\n",
      "Epoch: 0  Batch_number:  36  Batch_loss: 0.871875  Accuracy: 0.871875\n",
      "Epoch: 0  Batch_number:  37  Batch_loss: 0.875  Accuracy: 0.875\n",
      "Epoch: 0  | Accuracy: 0.875\n",
      "Epoch: 1  Batch_number:  0  Batch_loss: 0.85625  Accuracy: 0.85625\n",
      "Epoch: 1  Batch_number:  1  Batch_loss: 0.871875  Accuracy: 0.871875\n",
      "Epoch: 1  Batch_number:  2  Batch_loss: 0.8875  Accuracy: 0.8875\n",
      "Epoch: 1  Batch_number:  3  Batch_loss: 0.89375  Accuracy: 0.89375\n",
      "Epoch: 1  Batch_number:  4  Batch_loss: 0.9125  Accuracy: 0.9125\n",
      "Epoch: 1  Batch_number:  5  Batch_loss: 0.928125  Accuracy: 0.928125\n",
      "Epoch: 1  Batch_number:  6  Batch_loss: 0.95  Accuracy: 0.95\n",
      "Epoch: 1  Batch_number:  7  Batch_loss: 0.95  Accuracy: 0.95\n",
      "Epoch: 1  Batch_number:  8  Batch_loss: 0.953125  Accuracy: 0.953125\n",
      "Epoch: 1  Batch_number:  9  Batch_loss: 0.953125  Accuracy: 0.953125\n",
      "Epoch: 1  Batch_number:  10  Batch_loss: 0.9625  Accuracy: 0.9625\n",
      "Epoch: 1  Batch_number:  11  Batch_loss: 0.965625  Accuracy: 0.965625\n",
      "Epoch: 1  Batch_number:  12  Batch_loss: 0.975  Accuracy: 0.975\n",
      "Epoch: 1  Batch_number:  13  Batch_loss: 0.978125  Accuracy: 0.978125\n",
      "Epoch: 1  Batch_number:  14  Batch_loss: 0.98125  Accuracy: 0.98125\n",
      "Epoch: 1  Batch_number:  15  Batch_loss: 0.984375  Accuracy: 0.984375\n",
      "Epoch: 1  Batch_number:  16  Batch_loss: 0.9875  Accuracy: 0.9875\n",
      "Epoch: 1  Batch_number:  17  Batch_loss: 0.984375  Accuracy: 0.984375\n"
     ]
    }
   ],
   "source": [
    "\n",
    "with tf.Session() as sess:\n",
    "    init.run()\n",
    "    for epoch in range(n_epochs):\n",
    "        for batch_index in range(int(eInput.shape[0]/batch_size)):\n",
    "            batch_X,batch_Y,batch_lengths = fetch_batch(eInput,Y,eLengths,batch_index,batch_size)\n",
    "            \n",
    "            sess.run(training_op,feed_dict = {encoder_inputs: batch_X,\n",
    "                                       encoder_inputs_length: batch_lengths,\n",
    "                                       traits: batch_Y,\n",
    "                                       embedding_placeholder:emb})\n",
    "            acc = accuracy.eval(feed_dict = {encoder_inputs: batch_X,\n",
    "                                       encoder_inputs_length: batch_lengths,\n",
    "                                       traits: batch_Y,\n",
    "                                       embedding_placeholder:emb})\n",
    "            \n",
    "            batch_loss = accuracy.eval(feed_dict = {encoder_inputs: batch_X,\n",
    "                                       encoder_inputs_length: batch_lengths,\n",
    "                                       traits: batch_Y,\n",
    "                                       embedding_placeholder:emb})\n",
    "            print('Epoch:',epoch,' Batch_number: ',batch_index,' Batch_loss:',batch_loss,' Accuracy:',acc)\n",
    "        \n",
    "        print('Epoch:',epoch,' | Accuracy:',acc)"
   ]
  },
  {
   "cell_type": "code",
   "execution_count": 19,
   "metadata": {},
   "outputs": [
    {
     "name": "stdout",
     "output_type": "stream",
     "text": [
      "INFO:tensorflow:Restoring parameters from tmp/Classification/model/mymodel.ckpt\n",
      "Ans: I am a hard working person, and I am ambitious about my goals. I would love to fulfill organization objectives so that I am recognised as someone significant to the company. I can work under pressure when things are not my side and I never give up.\n",
      "\n",
      "Can you work under pressure?\n"
     ]
    }
   ],
   "source": [
    "#Problem with the model due to less data\n",
    "\n",
    "with tf.Session() as sess:\n",
    "    saver.restore(sess,save_path)\n",
    "    testing = test_ques.eval(feed_dict = {encoder_inputs: eInput_test,encoder_inputs_length: eLengths_test,embedding_placeholder:emb})\n",
    "    print('Ans:',X_test[2])\n",
    "    print()\n",
    "    print(ques_dict[testing[2]])"
   ]
  },
  {
   "cell_type": "code",
   "execution_count": 20,
   "metadata": {},
   "outputs": [],
   "source": [
    "def network_pass(candidate_ans):\n",
    "    \n",
    "    candidate_ans = [candidate_ans]\n",
    "    candidate_input,input_length = fit_encoder_text(data= candidate_ans,word_to_index = wi,max_allowed_seq_length = eMax_allowed_length)\n",
    "    new_Q = test_ques.eval(feed_dict = {encoder_inputs: candidate_input,encoder_inputs_length: input_length,embedding_placeholder:emb})\n",
    "    return ques_dict[new_Q[0]] \n",
    "    "
   ]
  },
  {
   "cell_type": "code",
   "execution_count": 21,
   "metadata": {},
   "outputs": [
    {
     "name": "stdout",
     "output_type": "stream",
     "text": [
      "INFO:tensorflow:Restoring parameters from tmp/Classification/model/mymodel.ckpt\n",
      "Tell me about yourself.Hi i am gitesh khanna and i love working in machine learning.\n",
      "\n",
      "AI and machine learning is hyped all around the world. What makes you stand out from the other candidates?i am a hardworkinh person who is passionate to gain more knowledge. I am a quick learner and I can easily handle multiple tasks in minimum supervision.\n",
      "\n",
      "What makes you angry?Anger is a term naturally associated with everybody I guess. I am not known to get angry normally but there are instances when I did become angry, particularly in case of working in teams if I find that fellow members are taking full credit for a work in which they didn't contribute.\n",
      "\n",
      "What was the toughest decision you ever had to make?I had to choose between software devlopment and machine learning. I decided choosing ML. Later realized that ML itself has so much application focus on software development too.\n",
      "\n"
     ]
    }
   ],
   "source": [
    "def activate_bot():\n",
    "    with tf.Session() as sess:\n",
    "        saver.restore(sess,save_path)\n",
    "        \n",
    "        count = 1 \n",
    "        Q = 'Tell me about yourself.'\n",
    "        while(count!=5):\n",
    "            candidate_ans = input(Q)\n",
    "            Q = network_pass(candidate_ans)\n",
    "            print()\n",
    "            count+=1\n",
    "        \n",
    "activate_bot()"
   ]
  },
  {
   "cell_type": "code",
   "execution_count": null,
   "metadata": {},
   "outputs": [],
   "source": []
  },
  {
   "cell_type": "code",
   "execution_count": null,
   "metadata": {},
   "outputs": [],
   "source": []
  }
 ],
 "metadata": {
  "kernelspec": {
   "display_name": "Python 3",
   "language": "python",
   "name": "python3"
  },
  "language_info": {
   "codemirror_mode": {
    "name": "ipython",
    "version": 3
   },
   "file_extension": ".py",
   "mimetype": "text/x-python",
   "name": "python",
   "nbconvert_exporter": "python",
   "pygments_lexer": "ipython3",
   "version": "3.6.3"
  }
 },
 "nbformat": 4,
 "nbformat_minor": 2
}
