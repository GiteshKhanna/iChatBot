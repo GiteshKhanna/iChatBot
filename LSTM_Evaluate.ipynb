{
 "cells": [
  {
   "cell_type": "code",
   "execution_count": 1,
   "metadata": {},
   "outputs": [
    {
     "name": "stderr",
     "output_type": "stream",
     "text": [
      "c:\\users\\lenovo\\appdata\\local\\programs\\python\\python36\\lib\\site-packages\\h5py\\__init__.py:36: FutureWarning: Conversion of the second argument of issubdtype from `float` to `np.floating` is deprecated. In future, it will be treated as `np.float64 == np.dtype(float).type`.\n",
      "  from ._conv import register_converters as _register_converters\n"
     ]
    }
   ],
   "source": [
    "import math\n",
    "import numpy as np\n",
    "import tensorflow as tf\n",
    "\n",
    "from tensorflow.python.ops.rnn_cell import GRUCell\n",
    "from tensorflow.python.ops.rnn_cell import LSTMCell\n",
    "from tensorflow.python.ops.rnn_cell import MultiRNNCell\n",
    "from tensorflow.python.ops.rnn_cell import DropoutWrapper, ResidualWrapper\n",
    "\n",
    "from tensorflow.python.ops import array_ops\n",
    "from tensorflow.python.ops import control_flow_ops\n",
    "from tensorflow.python.framework import constant_op\n",
    "from tensorflow.python.framework import dtypes\n",
    "from tensorflow.python.layers.core import Dense\n",
    "from tensorflow.python.util import nest\n",
    "\n",
    "from tensorflow.contrib.seq2seq.python.ops import attention_wrapper\n",
    "from tensorflow.contrib.seq2seq.python.ops import beam_search_decoder\n",
    "from datetime import datetime\n",
    "\n",
    "from preprocess import *\n",
    "from loading_util import *\n",
    "\n",
    "from sklearn.model_selection import train_test_split"
   ]
  },
  {
   "cell_type": "code",
   "execution_count": 2,
   "metadata": {},
   "outputs": [],
   "source": [
    "#Resetter\n",
    "def reset_graph(seed=42):\n",
    "    tf.reset_default_graph()\n",
    "    tf.set_random_seed(seed)\n",
    "    np.random.seed(seed)"
   ]
  },
  {
   "cell_type": "code",
   "execution_count": 3,
   "metadata": {},
   "outputs": [],
   "source": [
    "#embedding parameters\n",
    "embedding_size = 50\n",
    "vocab_size = 400003\n",
    "\n",
    "#data parameters\n",
    "eMax_allowed_length = 3000\n",
    "#dMax_allowed_length = 15\n",
    "\n",
    "#network parameters\n",
    "hidden_units = 64\n",
    "n_outputs = 5\n",
    "depth = 2\n",
    "n_epochs = 5\n",
    "learning_rate = 0.001\n",
    "batch_size = 64\n",
    "\n",
    "#Saving Parameters\n",
    "#Tensorboard Logs\n",
    "now = datetime.utcnow().strftime(\"%Y%m%d%H%M%S\")\n",
    "root_logdir = \"tmp/LSTM_evaluate/tf_logs\"\n",
    "log_dir = \"{}/run-{}/\".format(root_logdir,now)\n",
    "#Tensorboard logs end\n",
    "\n",
    "save_path = 'tmp/LSTM_Evaluate/model/mymodel.ckpt'"
   ]
  },
  {
   "cell_type": "code",
   "execution_count": 4,
   "metadata": {},
   "outputs": [],
   "source": [
    "#Fetching data\n",
    "#default directory: 'data/essays.csv'\n",
    "X,Y= read_csv_essay('data/essays.csv')\n",
    "X_train,X_test,Y_train,Y_test = train_test_split(X,Y,shuffle=True,train_size = 0.7,test_size=0.3 ,stratify=Y)"
   ]
  },
  {
   "cell_type": "code",
   "execution_count": 5,
   "metadata": {},
   "outputs": [],
   "source": [
    "#Fetching glove vectors\n",
    "#default directory: \"./glove.6B.50d.txt\"\n",
    "embedding_size = 50\n",
    "wi,iw,wv = read_glove_vecs()\n",
    "len(wi)\n",
    "len(iw)\n",
    "reset_graph()"
   ]
  },
  {
   "cell_type": "code",
   "execution_count": 6,
   "metadata": {},
   "outputs": [],
   "source": [
    "#Adding extra tokens to glove dictionary\n",
    "#IMPORTANT: Don't run more than once\n",
    "go_index,eos_index,unk_index = add_extra_to_dict(wi,iw,wv,embedding_size)\n",
    "emb = map_dict_to_list(iw,wv)"
   ]
  },
  {
   "cell_type": "code",
   "execution_count": 7,
   "metadata": {},
   "outputs": [
    {
     "name": "stdout",
     "output_type": "stream",
     "text": [
      "[[102729 268045 357265 ... 400001 400001 400001]\n",
      " [185456 302351  52942 ... 400001 400001 400001]\n",
      " [357265 269797 132032 ... 400001 400001 400001]\n",
      " ...\n",
      " [268744 390159 185456 ... 400001 400001 400001]\n",
      " [361079 383513  43009 ... 400001 400001 400001]\n",
      " [185456 388582 357211 ... 400001 400001 400001]]\n",
      "\n",
      "[[193715 335306 302351 ... 400001 400001 400001]\n",
      " [185456 302351 383067 ... 400001 400001 400001]\n",
      " [185456 180882 383071 ... 400001 400001 400001]\n",
      " ...\n",
      " [390159 185456 200034 ... 400001 400001 400001]\n",
      " [185456  52942 154322 ... 400001 400001 400001]\n",
      " [268744 336113 177230 ... 400001 400001 400001]]\n"
     ]
    }
   ],
   "source": [
    "#preprocessing data\n",
    "#Mapping each word in a sentence to its glove index\n",
    "eInput_train,eLengths_train = fit_essay_text(data= X_train,word_to_index = wi,max_allowed_seq_length = eMax_allowed_length)\n",
    "eInput_test,eLengths_test = fit_essay_text(data= X_test,word_to_index = wi,max_allowed_seq_length = eMax_allowed_length)\n",
    "\n",
    "eInput_train = np.array(eInput_train) \n",
    "eLengths_train = np.array(eLengths_train)\n",
    "\n",
    "eInput_test = np.array(eInput_test) \n",
    "eLengths_test = np.array(eLengths_test)\n",
    "\n",
    "print(eInput_train)\n",
    "print()\n",
    "print(eInput_test)"
   ]
  },
  {
   "cell_type": "code",
   "execution_count": 8,
   "metadata": {},
   "outputs": [],
   "source": [
    "#encoder inputs: [batch_size, max_time_steps]\n",
    "encoder_inputs = tf.placeholder(dtype = tf.int32, shape = (None,None), name = 'encoder_inputs')\n",
    "#encoder_inputs_length: [batch_size]\n",
    "encoder_inputs_length = tf.placeholder(dtype=tf.int32, shape=(None,) , name = 'encoder_inputs_length')\n",
    "\n",
    "#encoder_outputs\n",
    "traits = tf.placeholder(tf.float32,[None,n_outputs])"
   ]
  },
  {
   "cell_type": "code",
   "execution_count": 9,
   "metadata": {},
   "outputs": [],
   "source": [
    "\n",
    "#Instantiating embeddings\n",
    "embedding_variable = tf.Variable(tf.constant(0.0, shape = [vocab_size, embedding_size]),trainable = False, name = 'embedding')\n",
    "embedding_placeholder = tf.placeholder(tf.float32, shape=[vocab_size,embedding_size], name = 'embedding_placeholder' )\n",
    "encoder_embeddings = embedding_variable.assign(embedding_placeholder)\n",
    "\n",
    "encoder_inputs_embedded=tf.nn.embedding_lookup(encoder_embeddings,encoder_inputs)"
   ]
  },
  {
   "cell_type": "code",
   "execution_count": 10,
   "metadata": {},
   "outputs": [
    {
     "name": "stdout",
     "output_type": "stream",
     "text": [
      "(1726, 3000, 50)\n",
      "[ 0.17212   -1.0375     0.86829    0.18981    0.1175    -0.47162\n",
      " -0.41299   -0.98873    0.13708    0.5745    -0.16735   -0.041845\n",
      " -0.31854    0.82375   -0.016155   0.2247    -0.97144   -0.80812\n",
      "  0.39363   -1.1919    -0.32366   -0.33609   -0.0058044  0.98123\n",
      "  1.3945    -0.18385   -0.28007    0.93575    0.70044   -2.1868\n",
      "  1.0874     0.233     -0.07168   -0.62216   -0.69471    0.1657\n",
      "  0.37339   -0.33158   -0.47699    0.065543   0.72013    0.038212\n",
      " -0.68997    0.97234   -0.040409  -0.067067   2.0884    -0.33596\n",
      "  0.45466   -0.4402   ]\n"
     ]
    }
   ],
   "source": [
    "#Testing embedding lookup\n",
    "with tf.Session() as sess:\n",
    "    embed=sess.run(encoder_inputs_embedded, feed_dict={embedding_placeholder:emb ,encoder_inputs:eInput_train })\n",
    "    print(embed.shape)\n",
    "    print(embed[0][0])"
   ]
  },
  {
   "cell_type": "code",
   "execution_count": 11,
   "metadata": {},
   "outputs": [],
   "source": [
    "basic_cell = tf.contrib.rnn.BasicRNNCell(num_units = hidden_units)\n",
    "outputs,states = tf.nn.dynamic_rnn(basic_cell,encoder_inputs_embedded,dtype=tf.float32, sequence_length=encoder_inputs_length)"
   ]
  },
  {
   "cell_type": "code",
   "execution_count": 12,
   "metadata": {},
   "outputs": [],
   "source": [
    "logits = tf.layers.dense(states,n_outputs)\n",
    "xentropy = tf.nn.sigmoid_cross_entropy_with_logits(\n",
    "    labels=traits,\n",
    "    logits=logits,\n",
    "    name='CostFunction_Sigmoid'\n",
    ")\n",
    "loss = tf.reduce_mean(xentropy)"
   ]
  },
  {
   "cell_type": "code",
   "execution_count": 13,
   "metadata": {},
   "outputs": [],
   "source": [
    "#Testing Purposes\n",
    "probs = tf.nn.sigmoid(logits)"
   ]
  },
  {
   "cell_type": "code",
   "execution_count": 14,
   "metadata": {},
   "outputs": [
    {
     "name": "stdout",
     "output_type": "stream",
     "text": [
      "[[0.42670852 0.42172858 0.6228923  0.6031751  0.531172  ]\n",
      " [0.54152936 0.4478493  0.66808563 0.6195538  0.45637307]\n",
      " [0.51664764 0.5017774  0.55509317 0.4846529  0.44111398]\n",
      " [0.6639931  0.4677229  0.6372662  0.51697755 0.378357  ]\n",
      " [0.5892946  0.38766056 0.6585822  0.53872454 0.3844948 ]\n",
      " [0.54764706 0.37348288 0.5226442  0.6184045  0.41819406]\n",
      " [0.64314955 0.48325562 0.5729023  0.39328915 0.45246458]\n",
      " [0.6024687  0.37487152 0.6178862  0.55659413 0.4640369 ]\n",
      " [0.65077925 0.30212817 0.59735173 0.52226055 0.40486568]\n",
      " [0.6117587  0.3518935  0.5141206  0.6774777  0.5719723 ]\n",
      " [0.653818   0.44803816 0.50178343 0.62581134 0.35186666]\n",
      " [0.49001867 0.34542397 0.57937723 0.52284384 0.4180128 ]\n",
      " [0.42772368 0.47527426 0.596334   0.49086615 0.46024498]\n",
      " [0.4825744  0.33369347 0.6510847  0.60149574 0.6206156 ]\n",
      " [0.62399817 0.36454672 0.5734464  0.47022405 0.54766434]\n",
      " [0.6103695  0.44031054 0.58074754 0.5413931  0.48415104]\n",
      " [0.64497447 0.332827   0.6024348  0.6906779  0.4366395 ]\n",
      " [0.56883323 0.28914663 0.6243683  0.5838733  0.4459271 ]\n",
      " [0.53807163 0.51704556 0.5924031  0.5785793  0.26572278]\n",
      " [0.6375898  0.5459111  0.5732615  0.5315676  0.38619208]]\n"
     ]
    }
   ],
   "source": [
    "#Testing sigmoid\n",
    "\n",
    "init = tf.global_variables_initializer()\n",
    "with tf.Session() as sess:\n",
    "    init.run()\n",
    "    index = 20\n",
    "    p = sess.run(probs,feed_dict = {encoder_inputs: eInput_train[:index],encoder_inputs_length: eLengths_train[:index],traits: Y_train[:index],embedding_placeholder:emb})\n",
    "    print(p)"
   ]
  },
  {
   "cell_type": "code",
   "execution_count": 15,
   "metadata": {},
   "outputs": [],
   "source": [
    "optimizer = tf.train.AdamOptimizer(learning_rate=learning_rate)\n",
    "training_op = optimizer.minimize(loss) ;\n",
    "correct = tf.equal(tf.round(probs),tf.round(traits))\n",
    "accuracy = tf.reduce_mean(tf.cast(correct,tf.float32))"
   ]
  },
  {
   "cell_type": "code",
   "execution_count": 16,
   "metadata": {},
   "outputs": [
    {
     "name": "stdout",
     "output_type": "stream",
     "text": [
      "0.54\n",
      "[[ True False  True False  True]\n",
      " [ True  True  True  True False]\n",
      " [False  True  True  True  True]\n",
      " [ True False False  True False]\n",
      " [ True  True  True  True False]\n",
      " [ True False  True False False]\n",
      " [False  True  True False False]\n",
      " [ True  True  True  True  True]\n",
      " [False  True  True  True False]\n",
      " [False False  True  True False]\n",
      " [False  True  True  True  True]\n",
      " [False False  True False  True]\n",
      " [False  True  True False False]\n",
      " [ True False  True False  True]\n",
      " [False False  True  True False]\n",
      " [False False False  True False]\n",
      " [False False False  True  True]\n",
      " [ True False False  True  True]\n",
      " [False  True False False  True]\n",
      " [ True False False  True False]]\n"
     ]
    }
   ],
   "source": [
    "#Testing accuracy\n",
    "\n",
    "init = tf.global_variables_initializer()\n",
    "with tf.Session() as sess:\n",
    "    init.run()\n",
    "    index = 20\n",
    "    c,p = sess.run([correct,accuracy],feed_dict = {encoder_inputs: eInput_train[:index],\n",
    "                                                   encoder_inputs_length: eLengths_train[:index],\n",
    "                                                   traits: Y_train[:index],embedding_placeholder:emb})\n",
    "    print(p)\n",
    "    print(c)"
   ]
  },
  {
   "cell_type": "code",
   "execution_count": 17,
   "metadata": {},
   "outputs": [],
   "source": [
    "acc_summary = tf.summary.scalar('Accuracy',accuracy)\n",
    "file_writer = tf.summary.FileWriter(log_dir+'_train',tf.get_default_graph()) \n",
    "file_writer_test = tf.summary.FileWriter(log_dir+'_test',tf.get_default_graph()) "
   ]
  },
  {
   "cell_type": "code",
   "execution_count": 18,
   "metadata": {},
   "outputs": [],
   "source": [
    "init = tf.global_variables_initializer()\n",
    "saver = tf.train.Saver()"
   ]
  },
  {
   "cell_type": "code",
   "execution_count": 19,
   "metadata": {},
   "outputs": [],
   "source": [
    "def fetch_batch(data_x,data_y,lengths,batch_index,batch_size):\n",
    "    return (data_x[batch_index:batch_index+batch_size,:],\n",
    "            data_y[batch_index:batch_index+batch_size,:],\n",
    "            lengths[batch_index:batch_index+batch_size])"
   ]
  },
  {
   "cell_type": "code",
   "execution_count": 20,
   "metadata": {
    "scrolled": true
   },
   "outputs": [
    {
     "name": "stdout",
     "output_type": "stream",
     "text": [
      "Epoch: 0  Batch_number:  0 Batch_loss: 0.55 TRAIN_accuracy: 0.55  TEST_accuracy: 0.50931174\n",
      "Epoch: 0  Batch_number:  1 Batch_loss: 0.571875 TRAIN_accuracy: 0.571875  TEST_accuracy: 0.5109312\n",
      "Epoch: 0  Batch_number:  2 Batch_loss: 0.603125 TRAIN_accuracy: 0.603125  TEST_accuracy: 0.5203779\n",
      "Epoch: 0  Batch_number:  3 Batch_loss: 0.63125 TRAIN_accuracy: 0.63125  TEST_accuracy: 0.51983804\n",
      "Epoch: 0  Batch_number:  4 Batch_loss: 0.653125 TRAIN_accuracy: 0.653125  TEST_accuracy: 0.5174089\n",
      "Epoch: 0  Batch_number:  5 Batch_loss: 0.659375 TRAIN_accuracy: 0.659375  TEST_accuracy: 0.51282054\n",
      "Epoch: 0  Batch_number:  6 Batch_loss: 0.66875 TRAIN_accuracy: 0.66875  TEST_accuracy: 0.5160594\n",
      "Epoch: 0  Batch_number:  7 Batch_loss: 0.671875 TRAIN_accuracy: 0.671875  TEST_accuracy: 0.51578945\n",
      "Epoch: 0  Batch_number:  8 Batch_loss: 0.68125 TRAIN_accuracy: 0.68125  TEST_accuracy: 0.51578945\n",
      "Epoch: 0  Batch_number:  9 Batch_loss: 0.6875 TRAIN_accuracy: 0.6875  TEST_accuracy: 0.5149798\n",
      "Epoch: 0  Batch_number:  10 Batch_loss: 0.7 TRAIN_accuracy: 0.7  TEST_accuracy: 0.5125506\n",
      "Epoch: 0  Batch_number:  11 Batch_loss: 0.709375 TRAIN_accuracy: 0.709375  TEST_accuracy: 0.51039135\n",
      "Epoch: 0  Batch_number:  12 Batch_loss: 0.728125 TRAIN_accuracy: 0.728125  TEST_accuracy: 0.5071525\n",
      "Epoch: 0  Batch_number:  13 Batch_loss: 0.725 TRAIN_accuracy: 0.725  TEST_accuracy: 0.508502\n",
      "Epoch: 0  Batch_number:  14 Batch_loss: 0.71875 TRAIN_accuracy: 0.71875  TEST_accuracy: 0.50904185\n",
      "Epoch: 0  Batch_number:  15 Batch_loss: 0.7375 TRAIN_accuracy: 0.7375  TEST_accuracy: 0.50931174\n",
      "Epoch: 0  Batch_number:  16 Batch_loss: 0.75 TRAIN_accuracy: 0.75  TEST_accuracy: 0.50904185\n",
      "Epoch: 0  Batch_number:  17 Batch_loss: 0.75625 TRAIN_accuracy: 0.75625  TEST_accuracy: 0.51039135\n",
      "Epoch: 0  Batch_number:  18 Batch_loss: 0.746875 TRAIN_accuracy: 0.746875  TEST_accuracy: 0.50877196\n",
      "Epoch: 0  Batch_number:  19 Batch_loss: 0.746875 TRAIN_accuracy: 0.746875  TEST_accuracy: 0.5074224\n",
      "Epoch: 0  Batch_number:  20 Batch_loss: 0.771875 TRAIN_accuracy: 0.771875  TEST_accuracy: 0.5074224\n",
      "Epoch: 0  Batch_number:  21 Batch_loss: 0.765625 TRAIN_accuracy: 0.765625  TEST_accuracy: 0.5071525\n",
      "Epoch: 0  Batch_number:  22 Batch_loss: 0.7625 TRAIN_accuracy: 0.7625  TEST_accuracy: 0.5074224\n",
      "Epoch: 0  Batch_number:  23 Batch_loss: 0.76875 TRAIN_accuracy: 0.76875  TEST_accuracy: 0.51039135\n",
      "Epoch: 0  Batch_number:  24 Batch_loss: 0.76875 TRAIN_accuracy: 0.76875  TEST_accuracy: 0.51282054\n",
      "Epoch: 0  Batch_number:  25 Batch_loss: 0.771875 TRAIN_accuracy: 0.771875  TEST_accuracy: 0.51524967\n",
      "Epoch: 1  Batch_number:  0 Batch_loss: 0.790625 TRAIN_accuracy: 0.790625  TEST_accuracy: 0.51794875\n",
      "Epoch: 1  Batch_number:  1 Batch_loss: 0.79375 TRAIN_accuracy: 0.79375  TEST_accuracy: 0.51794875\n",
      "Epoch: 1  Batch_number:  2 Batch_loss: 0.8 TRAIN_accuracy: 0.8  TEST_accuracy: 0.517139\n",
      "Epoch: 1  Batch_number:  3 Batch_loss: 0.809375 TRAIN_accuracy: 0.809375  TEST_accuracy: 0.51902837\n",
      "Epoch: 1  Batch_number:  4 Batch_loss: 0.821875 TRAIN_accuracy: 0.821875  TEST_accuracy: 0.51902837\n",
      "Epoch: 1  Batch_number:  5 Batch_loss: 0.834375 TRAIN_accuracy: 0.834375  TEST_accuracy: 0.51686907\n",
      "Epoch: 1  Batch_number:  6 Batch_loss: 0.85 TRAIN_accuracy: 0.85  TEST_accuracy: 0.5122807\n",
      "Epoch: 1  Batch_number:  7 Batch_loss: 0.85 TRAIN_accuracy: 0.85  TEST_accuracy: 0.5120108\n",
      "Epoch: 1  Batch_number:  8 Batch_loss: 0.859375 TRAIN_accuracy: 0.859375  TEST_accuracy: 0.5109312\n",
      "Epoch: 1  Batch_number:  9 Batch_loss: 0.871875 TRAIN_accuracy: 0.871875  TEST_accuracy: 0.5098516\n",
      "Epoch: 1  Batch_number:  10 Batch_loss: 0.865625 TRAIN_accuracy: 0.865625  TEST_accuracy: 0.51282054\n",
      "Epoch: 1  Batch_number:  11 Batch_loss: 0.871875 TRAIN_accuracy: 0.871875  TEST_accuracy: 0.51309043\n",
      "Epoch: 1  Batch_number:  12 Batch_loss: 0.884375 TRAIN_accuracy: 0.884375  TEST_accuracy: 0.5109312\n",
      "Epoch: 1  Batch_number:  13 Batch_loss: 0.884375 TRAIN_accuracy: 0.884375  TEST_accuracy: 0.51309043\n",
      "Epoch: 1  Batch_number:  14 Batch_loss: 0.884375 TRAIN_accuracy: 0.884375  TEST_accuracy: 0.5160594\n",
      "Epoch: 1  Batch_number:  15 Batch_loss: 0.8875 TRAIN_accuracy: 0.8875  TEST_accuracy: 0.5176788\n",
      "Epoch: 1  Batch_number:  16 Batch_loss: 0.89375 TRAIN_accuracy: 0.89375  TEST_accuracy: 0.5203779\n",
      "Epoch: 1  Batch_number:  17 Batch_loss: 0.8875 TRAIN_accuracy: 0.8875  TEST_accuracy: 0.51821864\n"
     ]
    },
    {
     "ename": "KeyboardInterrupt",
     "evalue": "",
     "output_type": "error",
     "traceback": [
      "\u001b[1;31m---------------------------------------------------------------------------\u001b[0m",
      "\u001b[1;31mKeyboardInterrupt\u001b[0m                         Traceback (most recent call last)",
      "\u001b[1;32m<ipython-input-20-b9c4cdf64ea3>\u001b[0m in \u001b[0;36m<module>\u001b[1;34m()\u001b[0m\n\u001b[0;32m     19\u001b[0m                                        \u001b[0mencoder_inputs_length\u001b[0m\u001b[1;33m:\u001b[0m \u001b[0meLengths_test\u001b[0m\u001b[1;33m,\u001b[0m\u001b[1;33m\u001b[0m\u001b[0m\n\u001b[0;32m     20\u001b[0m                                        \u001b[0mtraits\u001b[0m\u001b[1;33m:\u001b[0m \u001b[0mY_test\u001b[0m\u001b[1;33m,\u001b[0m\u001b[1;33m\u001b[0m\u001b[0m\n\u001b[1;32m---> 21\u001b[1;33m                                        embedding_placeholder:emb})\n\u001b[0m\u001b[0;32m     22\u001b[0m \u001b[1;33m\u001b[0m\u001b[0m\n\u001b[0;32m     23\u001b[0m             batch_loss = accuracy.eval(feed_dict = {encoder_inputs: batch_X,\n",
      "\u001b[1;32mc:\\users\\lenovo\\appdata\\local\\programs\\python\\python36\\lib\\site-packages\\tensorflow\\python\\framework\\ops.py\u001b[0m in \u001b[0;36meval\u001b[1;34m(self, feed_dict, session)\u001b[0m\n\u001b[0;32m    708\u001b[0m \u001b[1;33m\u001b[0m\u001b[0m\n\u001b[0;32m    709\u001b[0m     \"\"\"\n\u001b[1;32m--> 710\u001b[1;33m     \u001b[1;32mreturn\u001b[0m \u001b[0m_eval_using_default_session\u001b[0m\u001b[1;33m(\u001b[0m\u001b[0mself\u001b[0m\u001b[1;33m,\u001b[0m \u001b[0mfeed_dict\u001b[0m\u001b[1;33m,\u001b[0m \u001b[0mself\u001b[0m\u001b[1;33m.\u001b[0m\u001b[0mgraph\u001b[0m\u001b[1;33m,\u001b[0m \u001b[0msession\u001b[0m\u001b[1;33m)\u001b[0m\u001b[1;33m\u001b[0m\u001b[0m\n\u001b[0m\u001b[0;32m    711\u001b[0m \u001b[1;33m\u001b[0m\u001b[0m\n\u001b[0;32m    712\u001b[0m \u001b[1;33m\u001b[0m\u001b[0m\n",
      "\u001b[1;32mc:\\users\\lenovo\\appdata\\local\\programs\\python\\python36\\lib\\site-packages\\tensorflow\\python\\framework\\ops.py\u001b[0m in \u001b[0;36m_eval_using_default_session\u001b[1;34m(tensors, feed_dict, graph, session)\u001b[0m\n\u001b[0;32m   5178\u001b[0m                        \u001b[1;34m\"the tensor's graph is different from the session's \"\u001b[0m\u001b[1;33m\u001b[0m\u001b[0m\n\u001b[0;32m   5179\u001b[0m                        \"graph.\")\n\u001b[1;32m-> 5180\u001b[1;33m   \u001b[1;32mreturn\u001b[0m \u001b[0msession\u001b[0m\u001b[1;33m.\u001b[0m\u001b[0mrun\u001b[0m\u001b[1;33m(\u001b[0m\u001b[0mtensors\u001b[0m\u001b[1;33m,\u001b[0m \u001b[0mfeed_dict\u001b[0m\u001b[1;33m)\u001b[0m\u001b[1;33m\u001b[0m\u001b[0m\n\u001b[0m\u001b[0;32m   5181\u001b[0m \u001b[1;33m\u001b[0m\u001b[0m\n\u001b[0;32m   5182\u001b[0m \u001b[1;33m\u001b[0m\u001b[0m\n",
      "\u001b[1;32mc:\\users\\lenovo\\appdata\\local\\programs\\python\\python36\\lib\\site-packages\\tensorflow\\python\\client\\session.py\u001b[0m in \u001b[0;36mrun\u001b[1;34m(self, fetches, feed_dict, options, run_metadata)\u001b[0m\n\u001b[0;32m    898\u001b[0m     \u001b[1;32mtry\u001b[0m\u001b[1;33m:\u001b[0m\u001b[1;33m\u001b[0m\u001b[0m\n\u001b[0;32m    899\u001b[0m       result = self._run(None, fetches, feed_dict, options_ptr,\n\u001b[1;32m--> 900\u001b[1;33m                          run_metadata_ptr)\n\u001b[0m\u001b[0;32m    901\u001b[0m       \u001b[1;32mif\u001b[0m \u001b[0mrun_metadata\u001b[0m\u001b[1;33m:\u001b[0m\u001b[1;33m\u001b[0m\u001b[0m\n\u001b[0;32m    902\u001b[0m         \u001b[0mproto_data\u001b[0m \u001b[1;33m=\u001b[0m \u001b[0mtf_session\u001b[0m\u001b[1;33m.\u001b[0m\u001b[0mTF_GetBuffer\u001b[0m\u001b[1;33m(\u001b[0m\u001b[0mrun_metadata_ptr\u001b[0m\u001b[1;33m)\u001b[0m\u001b[1;33m\u001b[0m\u001b[0m\n",
      "\u001b[1;32mc:\\users\\lenovo\\appdata\\local\\programs\\python\\python36\\lib\\site-packages\\tensorflow\\python\\client\\session.py\u001b[0m in \u001b[0;36m_run\u001b[1;34m(self, handle, fetches, feed_dict, options, run_metadata)\u001b[0m\n\u001b[0;32m   1133\u001b[0m     \u001b[1;32mif\u001b[0m \u001b[0mfinal_fetches\u001b[0m \u001b[1;32mor\u001b[0m \u001b[0mfinal_targets\u001b[0m \u001b[1;32mor\u001b[0m \u001b[1;33m(\u001b[0m\u001b[0mhandle\u001b[0m \u001b[1;32mand\u001b[0m \u001b[0mfeed_dict_tensor\u001b[0m\u001b[1;33m)\u001b[0m\u001b[1;33m:\u001b[0m\u001b[1;33m\u001b[0m\u001b[0m\n\u001b[0;32m   1134\u001b[0m       results = self._do_run(handle, final_targets, final_fetches,\n\u001b[1;32m-> 1135\u001b[1;33m                              feed_dict_tensor, options, run_metadata)\n\u001b[0m\u001b[0;32m   1136\u001b[0m     \u001b[1;32melse\u001b[0m\u001b[1;33m:\u001b[0m\u001b[1;33m\u001b[0m\u001b[0m\n\u001b[0;32m   1137\u001b[0m       \u001b[0mresults\u001b[0m \u001b[1;33m=\u001b[0m \u001b[1;33m[\u001b[0m\u001b[1;33m]\u001b[0m\u001b[1;33m\u001b[0m\u001b[0m\n",
      "\u001b[1;32mc:\\users\\lenovo\\appdata\\local\\programs\\python\\python36\\lib\\site-packages\\tensorflow\\python\\client\\session.py\u001b[0m in \u001b[0;36m_do_run\u001b[1;34m(self, handle, target_list, fetch_list, feed_dict, options, run_metadata)\u001b[0m\n\u001b[0;32m   1314\u001b[0m     \u001b[1;32mif\u001b[0m \u001b[0mhandle\u001b[0m \u001b[1;32mis\u001b[0m \u001b[1;32mNone\u001b[0m\u001b[1;33m:\u001b[0m\u001b[1;33m\u001b[0m\u001b[0m\n\u001b[0;32m   1315\u001b[0m       return self._do_call(_run_fn, feeds, fetches, targets, options,\n\u001b[1;32m-> 1316\u001b[1;33m                            run_metadata)\n\u001b[0m\u001b[0;32m   1317\u001b[0m     \u001b[1;32melse\u001b[0m\u001b[1;33m:\u001b[0m\u001b[1;33m\u001b[0m\u001b[0m\n\u001b[0;32m   1318\u001b[0m       \u001b[1;32mreturn\u001b[0m \u001b[0mself\u001b[0m\u001b[1;33m.\u001b[0m\u001b[0m_do_call\u001b[0m\u001b[1;33m(\u001b[0m\u001b[0m_prun_fn\u001b[0m\u001b[1;33m,\u001b[0m \u001b[0mhandle\u001b[0m\u001b[1;33m,\u001b[0m \u001b[0mfeeds\u001b[0m\u001b[1;33m,\u001b[0m \u001b[0mfetches\u001b[0m\u001b[1;33m)\u001b[0m\u001b[1;33m\u001b[0m\u001b[0m\n",
      "\u001b[1;32mc:\\users\\lenovo\\appdata\\local\\programs\\python\\python36\\lib\\site-packages\\tensorflow\\python\\client\\session.py\u001b[0m in \u001b[0;36m_do_call\u001b[1;34m(self, fn, *args)\u001b[0m\n\u001b[0;32m   1320\u001b[0m   \u001b[1;32mdef\u001b[0m \u001b[0m_do_call\u001b[0m\u001b[1;33m(\u001b[0m\u001b[0mself\u001b[0m\u001b[1;33m,\u001b[0m \u001b[0mfn\u001b[0m\u001b[1;33m,\u001b[0m \u001b[1;33m*\u001b[0m\u001b[0margs\u001b[0m\u001b[1;33m)\u001b[0m\u001b[1;33m:\u001b[0m\u001b[1;33m\u001b[0m\u001b[0m\n\u001b[0;32m   1321\u001b[0m     \u001b[1;32mtry\u001b[0m\u001b[1;33m:\u001b[0m\u001b[1;33m\u001b[0m\u001b[0m\n\u001b[1;32m-> 1322\u001b[1;33m       \u001b[1;32mreturn\u001b[0m \u001b[0mfn\u001b[0m\u001b[1;33m(\u001b[0m\u001b[1;33m*\u001b[0m\u001b[0margs\u001b[0m\u001b[1;33m)\u001b[0m\u001b[1;33m\u001b[0m\u001b[0m\n\u001b[0m\u001b[0;32m   1323\u001b[0m     \u001b[1;32mexcept\u001b[0m \u001b[0merrors\u001b[0m\u001b[1;33m.\u001b[0m\u001b[0mOpError\u001b[0m \u001b[1;32mas\u001b[0m \u001b[0me\u001b[0m\u001b[1;33m:\u001b[0m\u001b[1;33m\u001b[0m\u001b[0m\n\u001b[0;32m   1324\u001b[0m       \u001b[0mmessage\u001b[0m \u001b[1;33m=\u001b[0m \u001b[0mcompat\u001b[0m\u001b[1;33m.\u001b[0m\u001b[0mas_text\u001b[0m\u001b[1;33m(\u001b[0m\u001b[0me\u001b[0m\u001b[1;33m.\u001b[0m\u001b[0mmessage\u001b[0m\u001b[1;33m)\u001b[0m\u001b[1;33m\u001b[0m\u001b[0m\n",
      "\u001b[1;32mc:\\users\\lenovo\\appdata\\local\\programs\\python\\python36\\lib\\site-packages\\tensorflow\\python\\client\\session.py\u001b[0m in \u001b[0;36m_run_fn\u001b[1;34m(feed_dict, fetch_list, target_list, options, run_metadata)\u001b[0m\n\u001b[0;32m   1305\u001b[0m       \u001b[0mself\u001b[0m\u001b[1;33m.\u001b[0m\u001b[0m_extend_graph\u001b[0m\u001b[1;33m(\u001b[0m\u001b[1;33m)\u001b[0m\u001b[1;33m\u001b[0m\u001b[0m\n\u001b[0;32m   1306\u001b[0m       return self._call_tf_sessionrun(\n\u001b[1;32m-> 1307\u001b[1;33m           options, feed_dict, fetch_list, target_list, run_metadata)\n\u001b[0m\u001b[0;32m   1308\u001b[0m \u001b[1;33m\u001b[0m\u001b[0m\n\u001b[0;32m   1309\u001b[0m     \u001b[1;32mdef\u001b[0m \u001b[0m_prun_fn\u001b[0m\u001b[1;33m(\u001b[0m\u001b[0mhandle\u001b[0m\u001b[1;33m,\u001b[0m \u001b[0mfeed_dict\u001b[0m\u001b[1;33m,\u001b[0m \u001b[0mfetch_list\u001b[0m\u001b[1;33m)\u001b[0m\u001b[1;33m:\u001b[0m\u001b[1;33m\u001b[0m\u001b[0m\n",
      "\u001b[1;32mc:\\users\\lenovo\\appdata\\local\\programs\\python\\python36\\lib\\site-packages\\tensorflow\\python\\client\\session.py\u001b[0m in \u001b[0;36m_call_tf_sessionrun\u001b[1;34m(self, options, feed_dict, fetch_list, target_list, run_metadata)\u001b[0m\n\u001b[0;32m   1407\u001b[0m       return tf_session.TF_SessionRun_wrapper(\n\u001b[0;32m   1408\u001b[0m           \u001b[0mself\u001b[0m\u001b[1;33m.\u001b[0m\u001b[0m_session\u001b[0m\u001b[1;33m,\u001b[0m \u001b[0moptions\u001b[0m\u001b[1;33m,\u001b[0m \u001b[0mfeed_dict\u001b[0m\u001b[1;33m,\u001b[0m \u001b[0mfetch_list\u001b[0m\u001b[1;33m,\u001b[0m \u001b[0mtarget_list\u001b[0m\u001b[1;33m,\u001b[0m\u001b[1;33m\u001b[0m\u001b[0m\n\u001b[1;32m-> 1409\u001b[1;33m           run_metadata)\n\u001b[0m\u001b[0;32m   1410\u001b[0m     \u001b[1;32melse\u001b[0m\u001b[1;33m:\u001b[0m\u001b[1;33m\u001b[0m\u001b[0m\n\u001b[0;32m   1411\u001b[0m       \u001b[1;32mwith\u001b[0m \u001b[0merrors\u001b[0m\u001b[1;33m.\u001b[0m\u001b[0mraise_exception_on_not_ok_status\u001b[0m\u001b[1;33m(\u001b[0m\u001b[1;33m)\u001b[0m \u001b[1;32mas\u001b[0m \u001b[0mstatus\u001b[0m\u001b[1;33m:\u001b[0m\u001b[1;33m\u001b[0m\u001b[0m\n",
      "\u001b[1;31mKeyboardInterrupt\u001b[0m: "
     ]
    }
   ],
   "source": [
    "total_batches = int(eInput_train.shape[0]/batch_size)\n",
    "\n",
    "\n",
    "with tf.Session() as sess:\n",
    "    init.run()\n",
    "    for epoch in range(n_epochs):\n",
    "        for batch_index in range(total_batches):\n",
    "            batch_X,batch_Y,batch_lengths = fetch_batch(eInput_train,Y_train,eLengths_train,batch_index,batch_size)\n",
    "            \n",
    "            sess.run(training_op,feed_dict = {encoder_inputs: batch_X,\n",
    "                                       encoder_inputs_length: batch_lengths,\n",
    "                                       traits: batch_Y,\n",
    "                                       embedding_placeholder:emb})\n",
    "            acc_train = accuracy.eval(feed_dict = {encoder_inputs: batch_X,\n",
    "                                       encoder_inputs_length: batch_lengths,\n",
    "                                       traits: batch_Y,\n",
    "                                       embedding_placeholder:emb})\n",
    "            acc_test = accuracy.eval(feed_dict = {encoder_inputs: eInput_test,\n",
    "                                       encoder_inputs_length: eLengths_test,\n",
    "                                       traits: Y_test,\n",
    "                                       embedding_placeholder:emb})\n",
    "            \n",
    "            batch_loss = accuracy.eval(feed_dict = {encoder_inputs: batch_X,\n",
    "                                       encoder_inputs_length: batch_lengths,\n",
    "                                       traits: batch_Y,\n",
    "                                       embedding_placeholder:emb})\n",
    "            \n",
    "            print('Epoch:',epoch,' Batch_number: ',batch_index,\n",
    "                  'Batch_loss:',batch_loss, \n",
    "                  'TRAIN_accuracy:',acc_train,' TEST_accuracy:',acc_test)\n",
    "        "
   ]
  },
  {
   "cell_type": "code",
   "execution_count": null,
   "metadata": {},
   "outputs": [],
   "source": [
    "#Problem with the model due to less data\n",
    "\n",
    "with tf.Session() as sess:\n",
    "    saver.restore(sess,save_path)\n",
    "    testing = test_ques.eval(feed_dict = {encoder_inputs: eInput_test,encoder_inputs_length: eLengths_test,embedding_placeholder:emb})\n",
    "    print('Ans:',X_test[2])\n",
    "    print()\n",
    "    print(ques_dict[testing[2]])"
   ]
  },
  {
   "cell_type": "code",
   "execution_count": null,
   "metadata": {},
   "outputs": [],
   "source": [
    "def network_pass(candidate_ans):\n",
    "    \n",
    "    candidate_ans = [candidate_ans]\n",
    "    candidate_input,input_length = fit_encoder_text(data= candidate_ans,word_to_index = wi,max_allowed_seq_length = eMax_allowed_length)\n",
    "    new_Q = test_ques.eval(feed_dict = {encoder_inputs: candidate_input,encoder_inputs_length: input_length,embedding_placeholder:emb})\n",
    "    return ques_dict[new_Q[0]] \n",
    "    "
   ]
  },
  {
   "cell_type": "code",
   "execution_count": null,
   "metadata": {},
   "outputs": [],
   "source": [
    "def activate_bot():\n",
    "    with tf.Session() as sess:\n",
    "        saver.restore(sess,save_path)\n",
    "        \n",
    "        count = 1 \n",
    "        Q = 'Tell me about yourself.'\n",
    "        while(count!=5):\n",
    "            candidate_ans = input(Q)\n",
    "            Q = network_pass(candidate_ans)\n",
    "            print()\n",
    "            count+=1\n",
    "        \n",
    "activate_bot()"
   ]
  },
  {
   "cell_type": "code",
   "execution_count": null,
   "metadata": {},
   "outputs": [],
   "source": []
  },
  {
   "cell_type": "code",
   "execution_count": null,
   "metadata": {},
   "outputs": [],
   "source": []
  }
 ],
 "metadata": {
  "kernelspec": {
   "display_name": "Python 3",
   "language": "python",
   "name": "python3"
  },
  "language_info": {
   "codemirror_mode": {
    "name": "ipython",
    "version": 3
   },
   "file_extension": ".py",
   "mimetype": "text/x-python",
   "name": "python",
   "nbconvert_exporter": "python",
   "pygments_lexer": "ipython3",
   "version": "3.6.3"
  }
 },
 "nbformat": 4,
 "nbformat_minor": 2
}
