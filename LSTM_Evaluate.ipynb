{
 "cells": [
  {
   "cell_type": "code",
   "execution_count": 1,
   "metadata": {},
   "outputs": [
    {
     "name": "stderr",
     "output_type": "stream",
     "text": [
      "c:\\users\\lenovo\\appdata\\local\\programs\\python\\python36\\lib\\site-packages\\h5py\\__init__.py:36: FutureWarning: Conversion of the second argument of issubdtype from `float` to `np.floating` is deprecated. In future, it will be treated as `np.float64 == np.dtype(float).type`.\n",
      "  from ._conv import register_converters as _register_converters\n"
     ]
    }
   ],
   "source": [
    "import math\n",
    "import numpy as np\n",
    "import tensorflow as tf\n",
    "\n",
    "from tensorflow.python.ops.rnn_cell import GRUCell\n",
    "from tensorflow.python.ops.rnn_cell import LSTMCell\n",
    "from tensorflow.python.ops.rnn_cell import MultiRNNCell\n",
    "from tensorflow.python.ops.rnn_cell import DropoutWrapper, ResidualWrapper\n",
    "\n",
    "from tensorflow.python.ops import array_ops\n",
    "from tensorflow.python.ops import control_flow_ops\n",
    "from tensorflow.python.framework import constant_op\n",
    "from tensorflow.python.framework import dtypes\n",
    "from tensorflow.python.layers.core import Dense\n",
    "from tensorflow.python.util import nest\n",
    "\n",
    "from tensorflow.contrib.seq2seq.python.ops import attention_wrapper\n",
    "from tensorflow.contrib.seq2seq.python.ops import beam_search_decoder\n",
    "from datetime import datetime\n",
    "\n",
    "from preprocess import *\n",
    "from loading_util import *\n",
    "\n",
    "from sklearn.model_selection import train_test_split"
   ]
  },
  {
   "cell_type": "code",
   "execution_count": 2,
   "metadata": {},
   "outputs": [],
   "source": [
    "#Resetter\n",
    "def reset_graph(seed=42):\n",
    "    tf.reset_default_graph()\n",
    "    tf.set_random_seed(seed)\n",
    "    np.random.seed(seed)"
   ]
  },
  {
   "cell_type": "code",
   "execution_count": 3,
   "metadata": {},
   "outputs": [],
   "source": [
    "#embedding parameters\n",
    "embedding_size = 50\n",
    "vocab_size = 400003\n",
    "\n",
    "#data parameters\n",
    "eMax_allowed_length = 3000\n",
    "#dMax_allowed_length = 15\n",
    "\n",
    "#network parameters\n",
    "hidden_units = 64\n",
    "n_outputs = 5\n",
    "depth = 2\n",
    "n_epochs = 5\n",
    "learning_rate = 0.001\n",
    "batch_size = 1024\n",
    "\n",
    "#Saving Parameters\n",
    "#Tensorboard Logs\n",
    "now = datetime.utcnow().strftime(\"%Y%m%d%H%M%S\")\n",
    "root_logdir = \"tmp/LSTM_evaluate/tf_logs\"\n",
    "log_dir = \"{}/run-{}/\".format(root_logdir,now)\n",
    "#Tensorboard logs end\n",
    "\n",
    "save_path = 'tmp/LSTM_Evaluate/model/mymodel.ckpt'"
   ]
  },
  {
   "cell_type": "code",
   "execution_count": 4,
   "metadata": {},
   "outputs": [],
   "source": [
    "#Fetching data\n",
    "#default directory: 'data/essays.csv'\n",
    "X,Y= read_csv_essay('data/essays.csv')\n",
    "X_train,X_test,Y_train,Y_test = train_test_split(X,Y,shuffle=True,train_size = 0.7,test_size=0.3 ,stratify=Y)"
   ]
  },
  {
   "cell_type": "code",
   "execution_count": 5,
   "metadata": {},
   "outputs": [],
   "source": [
    "#Fetching glove vectors\n",
    "#default directory: \"./glove.6B.50d.txt\"\n",
    "embedding_size = 50\n",
    "wi,iw,wv = read_glove_vecs()\n",
    "len(wi)\n",
    "len(iw)\n",
    "reset_graph()"
   ]
  },
  {
   "cell_type": "code",
   "execution_count": 6,
   "metadata": {},
   "outputs": [],
   "source": [
    "#Adding extra tokens to glove dictionary\n",
    "#IMPORTANT: Don't run more than once\n",
    "go_index,eos_index,unk_index = add_extra_to_dict(wi,iw,wv,embedding_size)\n",
    "emb = map_dict_to_list(iw,wv)"
   ]
  },
  {
   "cell_type": "code",
   "execution_count": 7,
   "metadata": {},
   "outputs": [
    {
     "name": "stdout",
     "output_type": "stream",
     "text": [
      "[[185456 126551 209644 ... 400001 400001 400001]\n",
      " [193715 192972 173235 ... 400001 400001 400001]\n",
      " [185456 200034 389216 ... 400001 400001 400001]\n",
      " ...\n",
      " [308560 264936  60664 ... 400001 400001 400001]\n",
      " [185456  71949  88125 ... 400001 400001 400001]\n",
      " [385217 177230 185456 ... 400001 400001 400001]]\n",
      "\n",
      "[[185456 302351 360399 ... 400001 400001 400001]\n",
      " [217786 261148 185456 ... 400001 400001 400001]\n",
      " [336113 185456 200034 ... 400001 400001 400001]\n",
      " ...\n",
      " [185456  52942 368716 ... 400001 400001 400001]\n",
      " [344461 268045 107571 ... 400001 400001 400001]\n",
      " [308560 264936 185456 ... 400001 400001 400001]]\n"
     ]
    }
   ],
   "source": [
    "#preprocessing data\n",
    "#Mapping each word in a sentence to its glove index\n",
    "eInput_train,eLengths_train = fit_essay_text(data= X_train,word_to_index = wi,max_allowed_seq_length = eMax_allowed_length)\n",
    "eInput_test,eLengths_test = fit_essay_text(data= X_test,word_to_index = wi,max_allowed_seq_length = eMax_allowed_length)\n",
    "\n",
    "eInput_train = np.array(eInput_train) \n",
    "eLengths_train = np.array(eLengths_train)\n",
    "\n",
    "eInput_test = np.array(eInput_test) \n",
    "eLengths_test = np.array(eLengths_test)\n",
    "\n",
    "print(eInput_train)\n",
    "print()\n",
    "print(eInput_test)"
   ]
  },
  {
   "cell_type": "code",
   "execution_count": 8,
   "metadata": {},
   "outputs": [],
   "source": [
    "#encoder inputs: [batch_size, max_time_steps]\n",
    "encoder_inputs = tf.placeholder(dtype = tf.int32, shape = (None,None), name = 'encoder_inputs')\n",
    "#encoder_inputs_length: [batch_size]\n",
    "encoder_inputs_length = tf.placeholder(dtype=tf.int32, shape=(None,) , name = 'encoder_inputs_length')\n",
    "\n",
    "#encoder_outputs\n",
    "traits = tf.placeholder(tf.float32,[None,n_outputs])"
   ]
  },
  {
   "cell_type": "code",
   "execution_count": 9,
   "metadata": {},
   "outputs": [],
   "source": [
    "\n",
    "#Instantiating embeddings\n",
    "embedding_variable = tf.Variable(tf.constant(0.0, shape = [vocab_size, embedding_size]),trainable = True, name = 'embedding')\n",
    "embedding_placeholder = tf.placeholder(tf.float32, shape=[vocab_size,embedding_size], name = 'embedding_placeholder' )\n",
    "encoder_embeddings = embedding_variable.assign(embedding_placeholder)\n",
    "\n",
    "encoder_inputs_embedded=tf.nn.embedding_lookup(encoder_embeddings,encoder_inputs)"
   ]
  },
  {
   "cell_type": "code",
   "execution_count": 10,
   "metadata": {},
   "outputs": [
    {
     "name": "stdout",
     "output_type": "stream",
     "text": [
      "(1726, 3000, 50)\n",
      "[ 1.1891e-01  1.5255e-01 -8.2073e-02 -7.4144e-01  7.5917e-01 -4.8328e-01\n",
      " -3.1009e-01  5.1476e-01 -9.8708e-01  6.1757e-04 -1.5043e-01  8.3770e-01\n",
      " -1.0797e+00 -5.1460e-01  1.3188e+00  6.2007e-01  1.3779e-01  4.7108e-01\n",
      " -7.2874e-02 -7.2675e-01 -7.4116e-01  7.5263e-01  8.8180e-01  2.9561e-01\n",
      "  1.3548e+00 -2.5701e+00 -1.3523e+00  4.5880e-01  1.0068e+00 -1.1856e+00\n",
      "  3.4737e+00  7.7898e-01 -7.2929e-01  2.5102e-01 -2.6156e-01 -3.4684e-01\n",
      "  5.5841e-01  7.5098e-01  4.9830e-01 -2.6823e-01 -2.7443e-03 -1.8298e-02\n",
      " -2.8096e-01  5.5318e-01  3.7706e-02  1.8555e-01 -1.5025e-01 -5.7512e-01\n",
      " -2.6671e-01  9.2121e-01]\n"
     ]
    }
   ],
   "source": [
    "#Testing embedding lookup\n",
    "with tf.Session() as sess:\n",
    "    embed=sess.run(encoder_inputs_embedded, feed_dict={embedding_placeholder:emb ,encoder_inputs:eInput_train })\n",
    "    print(embed.shape)\n",
    "    print(embed[0][0])"
   ]
  },
  {
   "cell_type": "code",
   "execution_count": 11,
   "metadata": {},
   "outputs": [],
   "source": [
    "basic_cell = tf.contrib.rnn.BasicRNNCell(num_units = hidden_units)\n",
    "outputs,states = tf.nn.dynamic_rnn(basic_cell,encoder_inputs_embedded,dtype=tf.float32, sequence_length=encoder_inputs_length)"
   ]
  },
  {
   "cell_type": "code",
   "execution_count": 12,
   "metadata": {},
   "outputs": [],
   "source": [
    "logits = tf.layers.dense(states,n_outputs)\n",
    "xentropy = tf.nn.sigmoid_cross_entropy_with_logits(\n",
    "    labels=traits,\n",
    "    logits=logits,\n",
    "    name='CostFunction_Sigmoid'\n",
    ")\n",
    "loss = tf.reduce_mean(xentropy)"
   ]
  },
  {
   "cell_type": "code",
   "execution_count": 13,
   "metadata": {},
   "outputs": [],
   "source": [
    "#Testing Purposes\n",
    "probs = tf.nn.sigmoid(logits)"
   ]
  },
  {
   "cell_type": "code",
   "execution_count": 14,
   "metadata": {},
   "outputs": [
    {
     "name": "stdout",
     "output_type": "stream",
     "text": [
      "[[0.59138316 0.29785445 0.69701904 0.5201288  0.40545353]\n",
      " [0.62253946 0.4392154  0.5364552  0.47397876 0.3984339 ]\n",
      " [0.5556527  0.37168843 0.51423204 0.54537505 0.49251857]\n",
      " [0.54505855 0.42820388 0.48887613 0.4496058  0.3949534 ]\n",
      " [0.5945363  0.29630968 0.61203045 0.49414858 0.3346868 ]\n",
      " [0.6876622  0.35715917 0.629866   0.5922045  0.4594781 ]\n",
      " [0.4966127  0.4259384  0.5504083  0.52324927 0.28461564]\n",
      " [0.5684401  0.2702546  0.6603765  0.65046465 0.44695297]\n",
      " [0.54228437 0.4494883  0.57085264 0.51626337 0.36013335]\n",
      " [0.62732345 0.34435126 0.6176377  0.6136212  0.47191882]\n",
      " [0.5180603  0.31977937 0.6466851  0.5676208  0.39892706]\n",
      " [0.6547974  0.24939713 0.6854767  0.5681574  0.4597073 ]\n",
      " [0.6930299  0.44501805 0.4024151  0.7843428  0.3925475 ]\n",
      " [0.62483376 0.30008104 0.6109589  0.5940931  0.44638547]\n",
      " [0.6245365  0.34007066 0.6460493  0.6353759  0.38778362]\n",
      " [0.5742017  0.4860044  0.67151016 0.42893183 0.36144435]\n",
      " [0.46774668 0.40163326 0.62514603 0.37463486 0.44902757]\n",
      " [0.6070405  0.30759406 0.66020644 0.3118136  0.30597547]\n",
      " [0.6541784  0.36012688 0.5819098  0.5138448  0.2513635 ]\n",
      " [0.57687485 0.3423443  0.48833865 0.5751985  0.38448006]]\n"
     ]
    }
   ],
   "source": [
    "#Testing sigmoid\n",
    "\n",
    "init = tf.global_variables_initializer()\n",
    "with tf.Session() as sess:\n",
    "    init.run()\n",
    "    index = 20\n",
    "    p = sess.run(probs,feed_dict = {encoder_inputs: eInput_train[:index],encoder_inputs_length: eLengths_train[:index],traits: Y_train[:index],embedding_placeholder:emb})\n",
    "    print(p)"
   ]
  },
  {
   "cell_type": "code",
   "execution_count": 15,
   "metadata": {},
   "outputs": [],
   "source": [
    "optimizer = tf.train.AdamOptimizer(learning_rate=learning_rate)\n",
    "training_op = optimizer.minimize(loss) ;\n",
    "correct = tf.equal(tf.round(probs),tf.round(traits))\n",
    "accuracy = tf.reduce_mean(tf.cast(correct,tf.float32))"
   ]
  },
  {
   "cell_type": "code",
   "execution_count": 16,
   "metadata": {},
   "outputs": [
    {
     "name": "stdout",
     "output_type": "stream",
     "text": [
      "0.54\n",
      "[[ True False  True False  True]\n",
      " [ True  True  True  True  True]\n",
      " [ True False False False  True]\n",
      " [ True False  True False  True]\n",
      " [ True  True  True False False]\n",
      " [False  True False  True  True]\n",
      " [False  True  True False False]\n",
      " [ True  True  True  True False]\n",
      " [False  True  True False False]\n",
      " [ True  True  True  True  True]\n",
      " [False  True False False False]\n",
      " [False False False  True  True]\n",
      " [False  True False  True  True]\n",
      " [ True False False  True  True]\n",
      " [False False  True False False]\n",
      " [False False False False  True]\n",
      " [ True  True  True False  True]\n",
      " [False  True  True  True False]\n",
      " [ True  True False False  True]\n",
      " [False False False False  True]]\n"
     ]
    }
   ],
   "source": [
    "#Testing accuracy\n",
    "\n",
    "init = tf.global_variables_initializer()\n",
    "with tf.Session() as sess:\n",
    "    init.run()\n",
    "    index = 20\n",
    "    c,p = sess.run([correct,accuracy],feed_dict = {encoder_inputs: eInput_train[:index],\n",
    "                                                   encoder_inputs_length: eLengths_train[:index],\n",
    "                                                   traits: Y_train[:index],embedding_placeholder:emb})\n",
    "    print(p)\n",
    "    print(c)"
   ]
  },
  {
   "cell_type": "code",
   "execution_count": 17,
   "metadata": {},
   "outputs": [],
   "source": [
    "acc_summary = tf.summary.scalar('Accuracy',accuracy)\n",
    "file_writer = tf.summary.FileWriter(log_dir+'_train',tf.get_default_graph()) \n",
    "file_writer_test = tf.summary.FileWriter(log_dir+'_test',tf.get_default_graph()) "
   ]
  },
  {
   "cell_type": "code",
   "execution_count": 18,
   "metadata": {},
   "outputs": [],
   "source": [
    "init = tf.global_variables_initializer()\n",
    "saver = tf.train.Saver()"
   ]
  },
  {
   "cell_type": "code",
   "execution_count": 19,
   "metadata": {},
   "outputs": [],
   "source": [
    "def fetch_batch(data_x,data_y,lengths,batch_index,batch_size):\n",
    "    return (data_x[batch_index:batch_index+batch_size,:],\n",
    "            data_y[batch_index:batch_index+batch_size,:],\n",
    "            lengths[batch_index:batch_index+batch_size])"
   ]
  },
  {
   "cell_type": "code",
   "execution_count": 20,
   "metadata": {
    "scrolled": true
   },
   "outputs": [
    {
     "name": "stdout",
     "output_type": "stream",
     "text": [
      "Epoch: 0  Batch_number:  0 Batch_loss: 0.50996095 TRAIN_accuracy: 0.50996095  TEST_accuracy: 0.5060729\n",
      "Epoch: 1  Batch_number:  0 Batch_loss: 0.515625 TRAIN_accuracy: 0.515625  TEST_accuracy: 0.505803\n",
      "Epoch: 2  Batch_number:  0 Batch_loss: 0.51308596 TRAIN_accuracy: 0.51308596  TEST_accuracy: 0.50121456\n",
      "Epoch: 3  Batch_number:  0 Batch_loss: 0.5115234 TRAIN_accuracy: 0.5115234  TEST_accuracy: 0.4979757\n",
      "Epoch: 4  Batch_number:  0 Batch_loss: 0.51464844 TRAIN_accuracy: 0.51464844  TEST_accuracy: 0.50013494\n"
     ]
    }
   ],
   "source": [
    "total_batches = int(eInput_train.shape[0]/batch_size)\n",
    "\n",
    "\n",
    "with tf.Session() as sess:\n",
    "    init.run()\n",
    "    for epoch in range(n_epochs):\n",
    "        for batch_index in range(total_batches):\n",
    "            batch_X,batch_Y,batch_lengths = fetch_batch(eInput_train,Y_train,eLengths_train,batch_index,batch_size)\n",
    "            \n",
    "            sess.run(training_op,feed_dict = {encoder_inputs: batch_X,\n",
    "                                       encoder_inputs_length: batch_lengths,\n",
    "                                       traits: batch_Y,\n",
    "                                       embedding_placeholder:emb})\n",
    "            acc_train = accuracy.eval(feed_dict = {encoder_inputs: batch_X,\n",
    "                                       encoder_inputs_length: batch_lengths,\n",
    "                                       traits: batch_Y,\n",
    "                                       embedding_placeholder:emb})\n",
    "            acc_test = accuracy.eval(feed_dict = {encoder_inputs: eInput_test,\n",
    "                                       encoder_inputs_length: eLengths_test,\n",
    "                                       traits: Y_test,\n",
    "                                       embedding_placeholder:emb})\n",
    "            \n",
    "            batch_loss = accuracy.eval(feed_dict = {encoder_inputs: batch_X,\n",
    "                                       encoder_inputs_length: batch_lengths,\n",
    "                                       traits: batch_Y,\n",
    "                                       embedding_placeholder:emb})\n",
    "            \n",
    "            print('Epoch:',epoch,' Batch_number: ',batch_index,\n",
    "                  'Batch_loss:',batch_loss, \n",
    "                  'TRAIN_accuracy:',acc_train,' TEST_accuracy:',acc_test)\n",
    "        saver.save(sess,save_path)\n",
    "        "
   ]
  },
  {
   "cell_type": "code",
   "execution_count": 29,
   "metadata": {},
   "outputs": [
    {
     "name": "stdout",
     "output_type": "stream",
     "text": [
      "[[0.63497984 0.35376385 0.6257002  0.5465952  0.46937215]]\n"
     ]
    }
   ],
   "source": [
    "#Checking for an input\n",
    "\n",
    "myAns = 'Its a fine day'\n",
    "init = tf.global_variables_initializer()\n",
    "with tf.Session() as sess:\n",
    "    sess.run(init)\n",
    "    candidate_ans = [myAns]\n",
    "    candidate_input,input_length = fit_encoder_text(data= candidate_ans,\n",
    "                                                    word_to_index = wi,\n",
    "                                                    max_allowed_seq_length = eMax_allowed_length)\n",
    "    p = sess.run(probs,feed_dict = {encoder_inputs: candidate_input,\n",
    "                                    encoder_inputs_length: input_length,\n",
    "                                    embedding_placeholder:emb})\n",
    "    print(p)\n"
   ]
  },
  {
   "cell_type": "code",
   "execution_count": 30,
   "metadata": {},
   "outputs": [],
   "source": [
    "def network_pass(candidate_ans,sess):\n",
    "    \n",
    "    candidate_ans = [candidate_ans]\n",
    "    candidate_input,input_length = fit_encoder_text(data= candidate_ans,\n",
    "                                                    word_to_index = wi,\n",
    "                                                    max_allowed_seq_length = eMax_allowed_length)\n",
    "    p = sess.run(probs,feed_dict = {encoder_inputs: candidate_input,\n",
    "                                    encoder_inputs_length: input_length,\n",
    "                                    embedding_placeholder:emb})\n",
    "    return p\n",
    "    "
   ]
  },
  {
   "cell_type": "code",
   "execution_count": 33,
   "metadata": {},
   "outputs": [
    {
     "name": "stdout",
     "output_type": "stream",
     "text": [
      "INFO:tensorflow:Restoring parameters from tmp/LSTM_Evaluate/model/mymodel.ckpt\n",
      "Tell me about yourself.Hi i am gitesh khanna and i love working in machine learning.\n",
      "\n",
      "[[0.414144   0.5792102  0.56126016 0.40126243 0.5694154 ]]\n",
      "[[0.414144   0.5792102  0.56126016 0.40126243 0.5694154 ]]What makes you stand out from the other candidates?i am a hardworkinh person who is passionate to gain more knowledge. I am a quick learner and I can easily handle multiple tasks in minimum supervision.\n",
      "\n",
      "[[0.5380904  0.41997582 0.5488085  0.47600383 0.5570909 ]]\n",
      "[[0.5380904  0.41997582 0.5488085  0.47600383 0.5570909 ]]What makes you angry?Anger is a term naturally associated with everybody I guess. I am not known to get angry normally but there are instances when I did become angry, particularly in case of working in teams if I find that fellow members are taking full credit for a work in which they didn't contribute.\n",
      "\n",
      "[[0.5119227  0.51350206 0.5206798  0.40508813 0.53584296]]\n",
      "[[0.5119227  0.51350206 0.5206798  0.40508813 0.53584296]]I had to choose between software devlopment and machine learning. I decided choosing ML. Later realized that ML itself has so much application focus on software development too.\n",
      "\n",
      "[[0.4340948  0.50374025 0.46098346 0.5846813  0.56653607]]\n"
     ]
    }
   ],
   "source": [
    "init = tf.global_variables_initializer()\n",
    "def activate_bot():\n",
    "    with tf.Session() as sess:\n",
    "        sess.run(init)\n",
    "        saver.restore(sess,save_path)\n",
    "        \n",
    "        count = 1 \n",
    "        Q = 'Tell me about yourself.'\n",
    "        while(count!=5):\n",
    "            candidate_ans = input(Q)\n",
    "            Q = network_pass(candidate_ans,sess)\n",
    "            print()\n",
    "            print(Q)\n",
    "            count+=1\n",
    "        \n",
    "activate_bot()"
   ]
  },
  {
   "cell_type": "code",
   "execution_count": null,
   "metadata": {},
   "outputs": [],
   "source": []
  },
  {
   "cell_type": "code",
   "execution_count": null,
   "metadata": {},
   "outputs": [],
   "source": []
  }
 ],
 "metadata": {
  "kernelspec": {
   "display_name": "Python 3",
   "language": "python",
   "name": "python3"
  },
  "language_info": {
   "codemirror_mode": {
    "name": "ipython",
    "version": 3
   },
   "file_extension": ".py",
   "mimetype": "text/x-python",
   "name": "python",
   "nbconvert_exporter": "python",
   "pygments_lexer": "ipython3",
   "version": "3.6.3"
  }
 },
 "nbformat": 4,
 "nbformat_minor": 2
}
