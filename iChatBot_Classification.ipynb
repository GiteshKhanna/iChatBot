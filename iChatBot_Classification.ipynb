{
 "cells": [
  {
   "cell_type": "code",
   "execution_count": 1,
   "metadata": {},
   "outputs": [
    {
     "name": "stderr",
     "output_type": "stream",
     "text": [
      "c:\\users\\lenovo\\appdata\\local\\programs\\python\\python36\\lib\\site-packages\\h5py\\__init__.py:36: FutureWarning: Conversion of the second argument of issubdtype from `float` to `np.floating` is deprecated. In future, it will be treated as `np.float64 == np.dtype(float).type`.\n",
      "  from ._conv import register_converters as _register_converters\n"
     ]
    }
   ],
   "source": [
    "import math\n",
    "import numpy as np\n",
    "import tensorflow as tf\n",
    "\n",
    "from tensorflow.python.ops.rnn_cell import GRUCell\n",
    "from tensorflow.python.ops.rnn_cell import LSTMCell\n",
    "from tensorflow.python.ops.rnn_cell import MultiRNNCell\n",
    "from tensorflow.python.ops.rnn_cell import DropoutWrapper, ResidualWrapper\n",
    "\n",
    "from tensorflow.python.ops import array_ops\n",
    "from tensorflow.python.ops import control_flow_ops\n",
    "from tensorflow.python.framework import constant_op\n",
    "from tensorflow.python.framework import dtypes\n",
    "from tensorflow.python.layers.core import Dense\n",
    "from tensorflow.python.util import nest\n",
    "\n",
    "from tensorflow.contrib.seq2seq.python.ops import attention_wrapper\n",
    "from tensorflow.contrib.seq2seq.python.ops import beam_search_decoder\n",
    "from datetime import datetime\n",
    "\n",
    "from preprocess import *\n",
    "from loading_util import *\n",
    "from ques_dictionary import ques_dict"
   ]
  },
  {
   "cell_type": "code",
   "execution_count": 2,
   "metadata": {},
   "outputs": [],
   "source": [
    "#Resetter\n",
    "def reset_graph(seed=42):\n",
    "    tf.reset_default_graph()\n",
    "    tf.set_random_seed(seed)\n",
    "    np.random.seed(seed)"
   ]
  },
  {
   "cell_type": "code",
   "execution_count": 3,
   "metadata": {},
   "outputs": [],
   "source": [
    "#embedding parameters\n",
    "embedding_size = 50\n",
    "vocab_size = 400003\n",
    "\n",
    "#data parameters\n",
    "eMax_allowed_length = 64\n",
    "#dMax_allowed_length = 15\n",
    "\n",
    "#network parameters\n",
    "hidden_units = 90\n",
    "n_outputs = 5\n",
    "depth = 1\n",
    "n_epochs = 10\n",
    "learning_rate = 0.001\n",
    "\n",
    "#Saving Parameters\n",
    "#Tensorboard Logs\n",
    "now = datetime.utcnow().strftime(\"%Y%m%d%H%M%S\")\n",
    "root_logdir = \"tmp/Classification/tf_logs\"\n",
    "log_dir = \"{}/run-{}/\".format(root_logdir,now)\n",
    "#Tensorboard logs end\n",
    "\n",
    "save_path = 'tmp/Classification/model/mymodel.ckpt'"
   ]
  },
  {
   "cell_type": "code",
   "execution_count": 4,
   "metadata": {},
   "outputs": [
    {
     "data": {
      "text/plain": [
       "'Whenever something makes me angry, I take that moment very positively because when we are working in such an organization usually decisions taken in anger are mostly futile. So I think, rather of getting anger and spoiling yourself, one should be silent in during anger at workplace.'"
      ]
     },
     "execution_count": 4,
     "metadata": {},
     "output_type": "execute_result"
    }
   ],
   "source": [
    "#Fetching data\n",
    "#default directory: 'data/data_10.csv'\n",
    "X,Y= read_csv('data/ques20_classification.csv')\n",
    "X_test,Y_test = read_csv('data/ques20_classification_test.csv')\n",
    "X[2]"
   ]
  },
  {
   "cell_type": "code",
   "execution_count": 5,
   "metadata": {},
   "outputs": [],
   "source": [
    "#Fetching glove vectors\n",
    "#default directory: \"./glove.6B.50d.txt\"\n",
    "embedding_size = 50\n",
    "wi,iw,wv = read_glove_vecs()\n",
    "len(wi)\n",
    "len(iw)\n",
    "reset_graph()"
   ]
  },
  {
   "cell_type": "code",
   "execution_count": 6,
   "metadata": {},
   "outputs": [],
   "source": [
    "#Adding extra tokens to glove dictionary\n",
    "#IMPORTANT: Don't run more than once\n",
    "go_index,eos_index,unk_index = add_extra_to_dict(wi,iw,wv,embedding_size)\n",
    "emb = map_dict_to_list(iw,wv)"
   ]
  },
  {
   "cell_type": "code",
   "execution_count": 7,
   "metadata": {},
   "outputs": [
    {
     "name": "stdout",
     "output_type": "stream",
     "text": [
      "[ 55227 192972  43009 356156 257314  61721 388710 141942 185456 168565\n",
      " 185456  52942 264549 209674 360914 160417  55410 264179  87774 357639\n",
      "  58996 190735 386423 185456 123516  71584  55410 278019 188480  93017\n",
      " 268045 389882 188480 354482 186644 185456 148426 357211 146626 240687\n",
      "  58996 352024 155016 111502 151348  43009 389835 188480 386473 357809\n",
      " 123516 108279 400001 400001 400001 400001 400001 400001 400001 400001\n",
      " 400001 400001 400001 400001]\n",
      "48\n"
     ]
    }
   ],
   "source": [
    "#preprocessing data\n",
    "#Mapping each word in a sentence to its glove index\n",
    "eInput,eLengths = fit_encoder_text(data= X[1:],word_to_index = wi,max_allowed_seq_length = eMax_allowed_length)\n",
    "#dInput,dOutput,dLengths = fit_decoder_text(data= Y[1:],word_to_index = wi,max_allowed_seq_length = dMax_allowed_length)\n",
    "\n",
    "eInput_test,eLengths_test = fit_encoder_text(data= X_test[1:],word_to_index = wi,max_allowed_seq_length = eMax_allowed_length)\n",
    "\n",
    "eInput = np.array(eInput)\n",
    "eLengths = np.array(eLengths)\n",
    "#dInput = np.array(dInput)\n",
    "#dOutput = np.array(dOutput)\n",
    "#dLengths = np.array(dLengths)\n",
    "print(eInput[2])\n",
    "print(eLengths[1])"
   ]
  },
  {
   "cell_type": "code",
   "execution_count": 8,
   "metadata": {},
   "outputs": [],
   "source": [
    "\n",
    "\n",
    "#encoder inputs: [batch_size, max_time_steps]\n",
    "encoder_inputs = tf.placeholder(dtype = tf.int32, shape = (None,None), name = 'encoder_inputs')\n",
    "#encoder_inputs_length: [batch_size]\n",
    "encoder_inputs_length = tf.placeholder(dtype=tf.int32, shape=(None,) , name = 'encoder_inputs_length')\n",
    "\n",
    "#encoder_outputs\n",
    "question = tf.placeholder(tf.int32,[None])\n",
    "\n",
    "#get dynamic batch_size\n",
    "batch_size = tf.shape(encoder_inputs)[0]"
   ]
  },
  {
   "cell_type": "code",
   "execution_count": 9,
   "metadata": {},
   "outputs": [
    {
     "name": "stdout",
     "output_type": "stream",
     "text": [
      "19\n"
     ]
    }
   ],
   "source": [
    "#Testing\n",
    "with tf.Session() as sess:\n",
    "    masize = sess.run(batch_size,feed_dict={encoder_inputs: eInput})\n",
    "    print(masize)"
   ]
  },
  {
   "cell_type": "code",
   "execution_count": 10,
   "metadata": {},
   "outputs": [],
   "source": [
    "#Instantiating embeddings\n",
    "embedding_variable = tf.Variable(tf.constant(0.0, shape = [vocab_size, embedding_size]),trainable = False, name = 'embedding')\n",
    "embedding_placeholder = tf.placeholder(tf.float32, shape=[vocab_size,embedding_size], name = 'embedding_placeholder' )\n",
    "encoder_embeddings = embedding_variable.assign(embedding_placeholder)\n",
    "\n",
    "encoder_inputs_embedded=tf.nn.embedding_lookup(encoder_embeddings,encoder_inputs)"
   ]
  },
  {
   "cell_type": "code",
   "execution_count": 11,
   "metadata": {},
   "outputs": [
    {
     "name": "stdout",
     "output_type": "stream",
     "text": [
      "(19, 64, 50)\n",
      "[ 1.1891e-01  1.5255e-01 -8.2073e-02 -7.4144e-01  7.5917e-01 -4.8328e-01\n",
      " -3.1009e-01  5.1476e-01 -9.8708e-01  6.1757e-04 -1.5043e-01  8.3770e-01\n",
      " -1.0797e+00 -5.1460e-01  1.3188e+00  6.2007e-01  1.3779e-01  4.7108e-01\n",
      " -7.2874e-02 -7.2675e-01 -7.4116e-01  7.5263e-01  8.8180e-01  2.9561e-01\n",
      "  1.3548e+00 -2.5701e+00 -1.3523e+00  4.5880e-01  1.0068e+00 -1.1856e+00\n",
      "  3.4737e+00  7.7898e-01 -7.2929e-01  2.5102e-01 -2.6156e-01 -3.4684e-01\n",
      "  5.5841e-01  7.5098e-01  4.9830e-01 -2.6823e-01 -2.7443e-03 -1.8298e-02\n",
      " -2.8096e-01  5.5318e-01  3.7706e-02  1.8555e-01 -1.5025e-01 -5.7512e-01\n",
      " -2.6671e-01  9.2121e-01]\n"
     ]
    }
   ],
   "source": [
    "#Testing embedding lookup\n",
    "with tf.Session() as sess:\n",
    "    embed=sess.run(encoder_inputs_embedded, feed_dict={embedding_placeholder:emb ,encoder_inputs:eInput })\n",
    "    print(embed.shape)\n",
    "    print(embed[0][0])"
   ]
  },
  {
   "cell_type": "code",
   "execution_count": 12,
   "metadata": {},
   "outputs": [],
   "source": [
    "basic_cell = tf.contrib.rnn.BasicRNNCell(num_units = hidden_units)\n",
    "outputs,states = tf.nn.dynamic_rnn(basic_cell,encoder_inputs_embedded,dtype=tf.float32, sequence_length=encoder_inputs_length)"
   ]
  },
  {
   "cell_type": "code",
   "execution_count": 13,
   "metadata": {},
   "outputs": [],
   "source": [
    "logits = tf.layers.dense(states,n_outputs)\n",
    "xentropy = tf.nn.sparse_softmax_cross_entropy_with_logits(labels=question,logits=logits)\n",
    "loss = tf.reduce_mean(xentropy)"
   ]
  },
  {
   "cell_type": "code",
   "execution_count": 14,
   "metadata": {},
   "outputs": [],
   "source": [
    "#Testing Purposes\n",
    "probs = tf.nn.softmax(logits,1)\n",
    "test_ques = tf.argmax(probs,1,output_type=tf.int64)"
   ]
  },
  {
   "cell_type": "code",
   "execution_count": 15,
   "metadata": {},
   "outputs": [],
   "source": [
    "optimizer = tf.train.AdamOptimizer(learning_rate=learning_rate)\n",
    "training_op = optimizer.minimize(loss) ;\n",
    "correct = tf.nn.in_top_k(logits,question,1)\n",
    "accuracy = tf.reduce_mean(tf.cast(correct,tf.float32))"
   ]
  },
  {
   "cell_type": "code",
   "execution_count": 16,
   "metadata": {},
   "outputs": [],
   "source": [
    "acc_summary = tf.summary.scalar('Accuracy',accuracy)\n",
    "file_writer = tf.summary.FileWriter(log_dir+'_train',tf.get_default_graph()) \n",
    "file_writer_test = tf.summary.FileWriter(log_dir+'_test',tf.get_default_graph()) "
   ]
  },
  {
   "cell_type": "code",
   "execution_count": 17,
   "metadata": {},
   "outputs": [],
   "source": [
    "init = tf.global_variables_initializer()\n",
    "saver = tf.train.Saver()"
   ]
  },
  {
   "cell_type": "code",
   "execution_count": 18,
   "metadata": {
    "scrolled": true
   },
   "outputs": [
    {
     "name": "stdout",
     "output_type": "stream",
     "text": [
      "Ans: I am a hard working person, and I am ambitious about my goals. I would love to fulfill organization objectives so that I am recognised as someone significant to the company. I can work under pressure when things are not my side and I never give up.\n",
      "0 Train accuracy: 0.31578946\n",
      "Next Question: Why should I hire you?\n",
      "1 Train accuracy: 0.5263158\n",
      "Next Question: Why should I hire you?\n",
      "2 Train accuracy: 0.47368422\n",
      "Next Question: Why should I hire you?\n",
      "3 Train accuracy: 0.5263158\n",
      "Next Question: Why should I hire you?\n",
      "4 Train accuracy: 0.5263158\n",
      "Next Question: Tell me more about your goals.\n",
      "5 Train accuracy: 0.5263158\n",
      "Next Question: Tell me more about your goals.\n",
      "6 Train accuracy: 0.6315789\n",
      "Next Question: Tell me more about your goals.\n",
      "7 Train accuracy: 0.7894737\n",
      "Next Question: Tell me more about your goals.\n",
      "8 Train accuracy: 0.84210527\n",
      "Next Question: Tell me more about your goals.\n",
      "9 Train accuracy: 0.84210527\n",
      "Next Question: Tell me more about your goals.\n"
     ]
    }
   ],
   "source": [
    "with tf.Session() as sess:\n",
    "    init.run()\n",
    "    print('Ans:',X_test[2])\n",
    "    for epoch in range(n_epochs):\n",
    "        sess.run(training_op,feed_dict = {encoder_inputs: eInput,encoder_inputs_length: eLengths,question:Y[1:],embedding_placeholder:emb})\n",
    "        acc_train = accuracy.eval(feed_dict = {encoder_inputs: eInput,encoder_inputs_length: eLengths,question:Y[1:],embedding_placeholder:emb})\n",
    "        print(epoch,\"Train accuracy:\",acc_train)\n",
    "        testing = test_ques.eval(feed_dict = {encoder_inputs: eInput_test,encoder_inputs_length: eLengths_test,embedding_placeholder:emb})\n",
    "        print('Next Question:',ques_dict[testing[1]])\n",
    "        \n",
    "    saver.save(sess,save_path)"
   ]
  },
  {
   "cell_type": "code",
   "execution_count": 19,
   "metadata": {},
   "outputs": [
    {
     "name": "stdout",
     "output_type": "stream",
     "text": [
      "INFO:tensorflow:Restoring parameters from tmp/Classification/model/mymodel.ckpt\n",
      "Tell me more about your goals.\n"
     ]
    }
   ],
   "source": [
    "with tf.Session() as sess:\n",
    "    saver.restore(sess,save_path)\n",
    "    testing = test_ques.eval(feed_dict = {encoder_inputs: eInput_test,encoder_inputs_length: eLengths_test,embedding_placeholder:emb})\n",
    "    print(ques_dict[testing[1]])"
   ]
  },
  {
   "cell_type": "code",
   "execution_count": 26,
   "metadata": {},
   "outputs": [],
   "source": [
    "def network_pass(candidate_ans):\n",
    "    \n",
    "    candidate_ans = [candidate_ans]\n",
    "    candidate_input,input_length = fit_encoder_text(data= candidate_ans,word_to_index = wi,max_allowed_seq_length = eMax_allowed_length)\n",
    "    new_Q = test_ques.eval(feed_dict = {encoder_inputs: candidate_input,encoder_inputs_length: input_length,embedding_placeholder:emb})\n",
    "    return ques_dict[new_Q[0]] \n",
    "    "
   ]
  },
  {
   "cell_type": "code",
   "execution_count": 27,
   "metadata": {},
   "outputs": [
    {
     "name": "stdout",
     "output_type": "stream",
     "text": [
      "INFO:tensorflow:Restoring parameters from tmp/Classification/model/mymodel.ckpt\n",
      "Tell me about yourself.I acquired my degree in finance at a reputable university. My courses in finance and business have given me a solid base upon which I plan to build my career. During my college internship at a bank, I dealt numerous administrative duties. The experience allowed me to learn important skills and to develop the confidence needed to succeed in a competitive environment.\n",
      "Can you work under pressure?Yes sure\n",
      "Tell me more about your goals.nah\n",
      "Tell me more about your goals.why\n"
     ]
    }
   ],
   "source": [
    "def activate_bot():\n",
    "    with tf.Session() as sess:\n",
    "        saver.restore(sess,save_path)\n",
    "        \n",
    "        count = 1 \n",
    "        Q = 'Tell me about yourself.'\n",
    "        while(count!=5):\n",
    "            candidate_ans = input(Q)\n",
    "            Q = network_pass(candidate_ans)\n",
    "            count+=1\n",
    "        \n",
    "activate_bot()"
   ]
  },
  {
   "cell_type": "code",
   "execution_count": null,
   "metadata": {},
   "outputs": [],
   "source": []
  },
  {
   "cell_type": "code",
   "execution_count": null,
   "metadata": {},
   "outputs": [],
   "source": []
  }
 ],
 "metadata": {
  "kernelspec": {
   "display_name": "Python 3",
   "language": "python",
   "name": "python3"
  },
  "language_info": {
   "codemirror_mode": {
    "name": "ipython",
    "version": 3
   },
   "file_extension": ".py",
   "mimetype": "text/x-python",
   "name": "python",
   "nbconvert_exporter": "python",
   "pygments_lexer": "ipython3",
   "version": "3.6.3"
  }
 },
 "nbformat": 4,
 "nbformat_minor": 2
}
